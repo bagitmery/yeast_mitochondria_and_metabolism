{
 "cells": [
  {
   "cell_type": "code",
   "execution_count": 1,
   "metadata": {},
   "outputs": [],
   "source": [
    "# This notebook was written for Python 3\n",
    "import pandas as pd\n",
    "import seaborn as sns\n",
    "import matplotlib.pyplot as plt\n",
    "import numpy as np \n",
    "import matplotlib.font_manager as fm\n",
    "from scipy import stats\n",
    "\n",
    "%matplotlib inline"
   ]
  },
  {
   "cell_type": "code",
   "execution_count": 2,
   "metadata": {},
   "outputs": [],
   "source": [
    "blues = sns.color_palette('Blues', 9)\n",
    "reds = sns.color_palette('Reds', 9)\n",
    "greens = sns.color_palette('Greens', 9)\n",
    "oranges = sns.color_palette('Oranges', 9)\n",
    "pinkgreens = sns.color_palette('PiYG', 9)\n",
    "grays = sns.color_palette('Greys', 9)\n",
    "\n",
    "bw = {'axis.labelcolor': 'white', 'xtick.color': 'white', 'ytick.color': 'white',\n",
    "     'grid.color': 'white', 'axes.edgecolor': 'white', 'axes.facecolor': 'black',\n",
    "     'text.color': 'white', 'axes.labelcolor': 'white', 'figure.facecolor' : 'black',\n",
    "     'xtick.major.size': 8.0, 'xtick.minor.size': 5.0, 'xtick.major.width': 3.0, \n",
    "      'xtick.minor.width': 3.0, 'ytick.minor.width' : 3.0, 'ytick.major.width': 3.0,\n",
    "      'ytick.major.size': 8.0, 'ytick.minor.size': 5.0, 'axes.linewidth': 3.0}"
   ]
  },
  {
   "cell_type": "code",
   "execution_count": 3,
   "metadata": {},
   "outputs": [],
   "source": [
    "bw_black = {'axis.labelcolor': 'black', 'xtick.color': 'black', 'ytick.color': 'black',\n",
    "     'grid.color': 'black', 'axes.edgecolor': 'black', 'axes.facecolor': 'white',\n",
    "     'text.color': 'black', 'axes.labelcolor': 'black', 'figure.facecolor' : 'white',\n",
    "     'xtick.major.size': 5.0, 'xtick.minor.size': 5.0, \n",
    "      'ytick.major.size': 5.0, 'ytick.minor.size': 5.0, 'axes.linewidth': 1.0}"
   ]
  },
  {
   "cell_type": "code",
   "execution_count": 4,
   "metadata": {},
   "outputs": [],
   "source": [
    "bw_tickless = {'axis.labelcolor': 'white', 'grid.color': 'white', \n",
    "               'axes.edgecolor': 'white', 'axes.facecolor': 'black', 'text.color': 'white', \n",
    "               'axes.labelcolor': 'white', 'figure.facecolor' : 'black', 'axes.linewidth': 1.0,\n",
    "              'xtick.color': 'white', 'ytick.color': 'white'}"
   ]
  },
  {
   "cell_type": "markdown",
   "metadata": {},
   "source": [
    "## Import from .csv files"
   ]
  },
  {
   "cell_type": "code",
   "execution_count": 5,
   "metadata": {},
   "outputs": [],
   "source": [
    "df_N = pd.DataFrame()\n",
    "\n",
    "for i in range(11, 16):\n",
    "    sub = pd.read_csv('raw/cellcounts/2016_02_09_s' + str(i) + '.csv')\n",
    "    sub = sub.iloc[:25, :]\n",
    "    df_N['0209_s' + (str(i))] = sub['Type 2']\n",
    "    \n",
    "for i in range(11, 16):\n",
    "    sub = pd.read_csv('raw/cellcounts/2016_02_11_s' + str(i) + '.csv')\n",
    "    sub = sub.iloc[:25, :]\n",
    "    df_N['0211_s' + (str(i))] = sub['Type 2']\n",
    "    \n",
    "for i in range(11, 16):\n",
    "    sub = pd.read_csv('raw/cellcounts/2016_02_15_s' + str(i) + '.csv')\n",
    "    sub = sub.iloc[:25, :]\n",
    "    df_N['0215_s' + (str(i))] = sub['Type 2']"
   ]
  },
  {
   "cell_type": "code",
   "execution_count": 6,
   "metadata": {},
   "outputs": [],
   "source": [
    "df_C = pd.DataFrame()\n",
    "\n",
    "for i in range(16, 21):\n",
    "    sub = pd.read_csv('raw/cellcounts/2016_02_09_s' + str(i) + '.csv')\n",
    "    sub = sub.iloc[:53, :]\n",
    "    df_C['0209_s' + str(i)] = sub['Type 2']\n",
    "\n",
    "for i in range(16, 21):\n",
    "    sub = pd.read_csv('raw/cellcounts/2016_02_11_s' + str(i) + '.csv')\n",
    "    sub = sub.iloc[:53, :]\n",
    "    df_C['0211_s' + str(i)] = sub['Type 2']\n",
    "\n",
    "for i in range(16, 21):\n",
    "    sub = pd.read_csv('raw/cellcounts/2016_02_15_s' + str(i) + '.csv')\n",
    "    sub = sub.iloc[:53, :]\n",
    "    df_C['0215_s' + str(i)] = sub['Type 2']"
   ]
  },
  {
   "cell_type": "code",
   "execution_count": 7,
   "metadata": {},
   "outputs": [],
   "source": [
    "fullcounts_C = df_C.sum(axis = 1)\n",
    "fullcounts_N = df_N.sum(axis = 1)"
   ]
  },
  {
   "cell_type": "code",
   "execution_count": 8,
   "metadata": {},
   "outputs": [],
   "source": [
    "times_53 = np.arange(-60, (53-4)*15, 15)\n",
    "times_25 = np.arange(-60, (25-4)*15, 15)"
   ]
  },
  {
   "cell_type": "code",
   "execution_count": 9,
   "metadata": {},
   "outputs": [
    {
     "data": {
      "text/plain": [
       "array([-60, -45, -30, -15,   0,  15,  30,  45,  60,  75,  90, 105, 120,\n",
       "       135, 150, 165, 180, 195, 210, 225, 240, 255, 270, 285, 300])"
      ]
     },
     "execution_count": 9,
     "metadata": {},
     "output_type": "execute_result"
    }
   ],
   "source": [
    "times_25"
   ]
  },
  {
   "cell_type": "code",
   "execution_count": 10,
   "metadata": {},
   "outputs": [],
   "source": [
    "fullcounts_C_zeroed = fullcounts_C - fullcounts_C[0]"
   ]
  },
  {
   "cell_type": "code",
   "execution_count": 11,
   "metadata": {},
   "outputs": [
    {
     "data": {
      "image/png": "[encoded data removed]",
      "text/plain": [
       "<Figure size 432x288 with 1 Axes>"
      ]
     },
     "metadata": {},
     "output_type": "display_data"
    }
   ],
   "source": [
    "sns.set_context('paper', font_scale = 1.5, rc = {'lines.linewidth': 1.5})\n",
    "sns.set_style('ticks')\n",
    "\n",
    "f, ax = plt.subplots()\n",
    "plt.plot(times_53, fullcounts_C_zeroed, marker = '.', color = 'black')\n",
    "\n",
    "plt.axvline(x = 0, color = 'black', linestyle = (0, (3,5)))\n",
    "\n",
    "ax.set_xlabel('Time (min)')\n",
    "ax.set_ylabel('Cumulative budding events')\n",
    "\n",
    "#ax.set_yscale('log', basey = 2)\n",
    "\n",
    "ax.set_xlim(-60, 360)\n",
    "ax.set_ylim(0, 100)\n",
    "\n",
    "\n",
    "sns.despine()"
   ]
  },
  {
   "cell_type": "code",
   "execution_count": 12,
   "metadata": {},
   "outputs": [
    {
     "data": {
      "image/png": "[encoded data removed]",
      "text/plain": [
       "<Figure size 432x288 with 1 Axes>"
      ]
     },
     "metadata": {},
     "output_type": "display_data"
    }
   ],
   "source": [
    "sns.set_context('paper', font_scale = 1.5, rc = {'lines.linewidth': 2.0})\n",
    "sns.set_style('ticks')\n",
    "\n",
    "f, ax = plt.subplots()\n",
    "plt.plot(times_25, fullcounts_C[:25], marker = '.', markersize = 10, color = reds[5], label = '-glucose')\n",
    "plt.plot(times_25, fullcounts_N[:25], marker = '.', markersize = 10, color = 'black', label = '-nitrogen')\n",
    "\n",
    "\n",
    "\n",
    "plt.axvline(x = 0, color = 'black', linestyle = (0, (3,5)))\n",
    "\n",
    "ax.set_xlabel('Time (min)')\n",
    "ax.set_ylabel('$\\mathregular{log_{2}}$ number of cells')\n",
    "\n",
    "ax.set_xlim\n",
    "ax.set_ylim(0, 1000)\n",
    "\n",
    "ax.legend(bbox_to_anchor = (1.05, 1), loc = 2, borderaxespad = 0, frameon = False);\n",
    "\n",
    "sns.despine()"
   ]
  },
  {
   "cell_type": "code",
   "execution_count": null,
   "metadata": {},
   "outputs": [],
   "source": []
  }
 ],
 "metadata": {
  "kernelspec": {
   "display_name": "Python 3",
   "language": "python",
   "name": "python3"
  },
  "language_info": {
   "codemirror_mode": {
    "name": "ipython",
    "version": 3
   },
   "file_extension": ".py",
   "mimetype": "text/x-python",
   "name": "python",
   "nbconvert_exporter": "python",
   "pygments_lexer": "ipython3",
   "version": "3.7.4"
  }
 },
 "nbformat": 4,
 "nbformat_minor": 2
}
