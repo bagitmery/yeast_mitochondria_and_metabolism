{
 "cells": [
  {
   "cell_type": "code",
   "execution_count": 1,
   "metadata": {},
   "outputs": [],
   "source": [
    "import pandas as pd\n",
    "import seaborn as sns\n",
    "import matplotlib.pyplot as plt\n",
    "import numpy as np \n",
    "import scipy.stats as stats\n",
    "\n",
    "%matplotlib inline"
   ]
  },
  {
   "cell_type": "code",
   "execution_count": 2,
   "metadata": {},
   "outputs": [],
   "source": [
    "blues = sns.color_palette('Blues', 9)\n",
    "reds = sns.color_palette('Reds', 9)\n",
    "greens = sns.color_palette('Greens', 9)\n",
    "oranges = sns.color_palette('Oranges', 9)\n",
    "grays = sns.color_palette('Greys', 9)\n",
    "purples = sns.color_palette('Purples', 9)\n",
    "prs = sns.color_palette('PRGn', 9)\n",
    "tanteals = sns.color_palette('BrBG', 9)\n",
    "pinkgreens = sns.color_palette('PiYG', 9)[::-1]"
   ]
  },
  {
   "cell_type": "code",
   "execution_count": 3,
   "metadata": {},
   "outputs": [],
   "source": [
    "oxoplate_mutants = pd.read_csv('oxoplate_mutants.csv', delimiter = ',', usecols = [1, 3])"
   ]
  },
  {
   "cell_type": "code",
   "execution_count": 4,
   "metadata": {},
   "outputs": [
    {
     "data": {
      "text/html": [
       "<div>\n",
       "<style scoped>\n",
       "    .dataframe tbody tr th:only-of-type {\n",
       "        vertical-align: middle;\n",
       "    }\n",
       "\n",
       "    .dataframe tbody tr th {\n",
       "        vertical-align: top;\n",
       "    }\n",
       "\n",
       "    .dataframe thead th {\n",
       "        text-align: right;\n",
       "    }\n",
       "</style>\n",
       "<table border=\"1\" class=\"dataframe\">\n",
       "  <thead>\n",
       "    <tr style=\"text-align: right;\">\n",
       "      <th></th>\n",
       "      <th>genotype</th>\n",
       "      <th>value</th>\n",
       "    </tr>\n",
       "  </thead>\n",
       "  <tbody>\n",
       "    <tr>\n",
       "      <td>0</td>\n",
       "      <td>glucose</td>\n",
       "      <td>1321.947907</td>\n",
       "    </tr>\n",
       "    <tr>\n",
       "      <td>1</td>\n",
       "      <td>petite</td>\n",
       "      <td>457.013570</td>\n",
       "    </tr>\n",
       "    <tr>\n",
       "      <td>2</td>\n",
       "      <td>reg1</td>\n",
       "      <td>1823.223891</td>\n",
       "    </tr>\n",
       "    <tr>\n",
       "      <td>3</td>\n",
       "      <td>rgt2snf3</td>\n",
       "      <td>6059.971032</td>\n",
       "    </tr>\n",
       "    <tr>\n",
       "      <td>4</td>\n",
       "      <td>mig1mig2</td>\n",
       "      <td>1399.722454</td>\n",
       "    </tr>\n",
       "  </tbody>\n",
       "</table>\n",
       "</div>"
      ],
      "text/plain": [
       "   genotype        value\n",
       "0   glucose  1321.947907\n",
       "1    petite   457.013570\n",
       "2      reg1  1823.223891\n",
       "3  rgt2snf3  6059.971032\n",
       "4  mig1mig2  1399.722454"
      ]
     },
     "execution_count": 4,
     "metadata": {},
     "output_type": "execute_result"
    }
   ],
   "source": [
    "# genotype: wild-type (\"glucose\"), or knockout mutants as listed\n",
    "# value: oxygen consumption rate in umol/od/gen\n",
    "# the excluded column in the raw data, \"variable\", distinguishes technical replicates collected on the same day\n",
    "oxoplate_mutants.head()"
   ]
  },
  {
   "cell_type": "code",
   "execution_count": 5,
   "metadata": {},
   "outputs": [
    {
     "data": {
      "image/png": "[encoded data removed]",
      "text/plain": [
       "<Figure size 432x288 with 1 Axes>"
      ]
     },
     "metadata": {
      "needs_background": "light"
     },
     "output_type": "display_data"
    }
   ],
   "source": [
    "f, ax = plt.subplots()\n",
    "\n",
    "sns.set_context('paper', font_scale = 1.5)\n",
    "sns.set_style('ticks')\n",
    "\n",
    "carbon_palette = {'glucose': 'black', 'sucrose': blues[5], 'galactose': blues[5],\n",
    "                 'acetate': reds[5], 'glycerol': reds[5], 'ethanol': reds[5],\n",
    "                 'petite' : blues[5], 'reg1' : reds[5], 'rgt2snf3': reds[5],\n",
    "                  'mig1mig2': reds[5], 'snf1' : blues[5], 'hxk2': reds[5]}\n",
    "\n",
    "sns.boxplot(x = 'genotype', y = 'value', data = oxoplate_mutants, color = 'white',\n",
    "           order = ['petite', 'snf1', 'glucose', 'mig1mig2', 'hxk2', 'reg1', 'rgt2snf3'])\n",
    "sns.swarmplot(x = oxoplate_mutants['genotype'], y = oxoplate_mutants['value'], palette = carbon_palette,\n",
    "             order = ['petite', 'snf1', 'glucose', 'mig1mig2', 'hxk2', 'reg1', 'rgt2snf3'], s = 5)\n",
    "ax.set_xlabel('')\n",
    "#ax.set_ylim(-100, 10000)\n",
    "plt.xticks(rotation = 45)\n",
    "#plt.title('Oxygen consumption weighted by growth rate');\n",
    "ax.set_ylabel('$\\mathregular{O_{2}}$ consumption \\n($\\mathregular{\\mu mol\\; L^{-1}\\; OD_{600}^{-1}\\; gen^{-1}}$)');\n",
    "ax.set_xticklabels(['petite', 'snf1 $\\mathregular{\\Delta}$', 'wildtype',\n",
    "                    'mig1$\\mathregular{\\Delta}$mig2$\\mathregular{\\Delta}$', 'hxk2$\\mathregular{\\Delta}$',\n",
    "                    'reg1$\\mathregular{\\Delta}$', 'rgt2$\\mathregular{\\Delta}$snf3$\\mathregular{\\Delta}$']);\n",
    "plt.tight_layout()\n",
    "sns.despine()\n"
   ]
  },
  {
   "cell_type": "code",
   "execution_count": 23,
   "metadata": {},
   "outputs": [
    {
     "data": {
      "text/plain": [
       "Ttest_indResult(statistic=2.3035096599213976, pvalue=0.03107715097071035)"
      ]
     },
     "execution_count": 23,
     "metadata": {},
     "output_type": "execute_result"
    }
   ],
   "source": [
    "stats.ttest_ind(oxoplate_mutants[oxoplate_mutants['genotype'] == 'glucose']['value'],\n",
    "                  oxoplate_mutants[oxoplate_mutants['genotype'] == 'petite']['value'])"
   ]
  },
  {
   "cell_type": "code",
   "execution_count": 18,
   "metadata": {},
   "outputs": [
    {
     "data": {
      "text/plain": [
       "Ttest_indResult(statistic=-2.52126306110964, pvalue=0.01944159148558886)"
      ]
     },
     "execution_count": 18,
     "metadata": {},
     "output_type": "execute_result"
    }
   ],
   "source": [
    "stats.ttest_ind(oxoplate_mutants[oxoplate_mutants['genotype'] == 'glucose']['value'],\n",
    "                  oxoplate_mutants[oxoplate_mutants['genotype'] == 'snf1']['value'])"
   ]
  },
  {
   "cell_type": "code",
   "execution_count": 19,
   "metadata": {},
   "outputs": [
    {
     "data": {
      "text/plain": [
       "Ttest_indResult(statistic=-3.138599858008399, pvalue=0.004773601343819247)"
      ]
     },
     "execution_count": 19,
     "metadata": {},
     "output_type": "execute_result"
    }
   ],
   "source": [
    "stats.ttest_ind(oxoplate_mutants[oxoplate_mutants['genotype'] == 'glucose']['value'],\n",
    "                  oxoplate_mutants[oxoplate_mutants['genotype'] == 'mig1mig2']['value'])"
   ]
  },
  {
   "cell_type": "code",
   "execution_count": 20,
   "metadata": {},
   "outputs": [
    {
     "data": {
      "text/plain": [
       "Ttest_indResult(statistic=-4.41771210700381, pvalue=0.00021747118373283098)"
      ]
     },
     "execution_count": 20,
     "metadata": {},
     "output_type": "execute_result"
    }
   ],
   "source": [
    "stats.ttest_ind(oxoplate_mutants[oxoplate_mutants['genotype'] == 'glucose']['value'],\n",
    "                  oxoplate_mutants[oxoplate_mutants['genotype'] == 'hxk2']['value'])"
   ]
  },
  {
   "cell_type": "code",
   "execution_count": 21,
   "metadata": {},
   "outputs": [
    {
     "data": {
      "text/plain": [
       "Ttest_indResult(statistic=-6.4260125085173785, pvalue=1.8240115269251068e-06)"
      ]
     },
     "execution_count": 21,
     "metadata": {},
     "output_type": "execute_result"
    }
   ],
   "source": [
    "stats.ttest_ind(oxoplate_mutants[oxoplate_mutants['genotype'] == 'glucose']['value'],\n",
    "                  oxoplate_mutants[oxoplate_mutants['genotype'] == 'reg1']['value'])"
   ]
  },
  {
   "cell_type": "code",
   "execution_count": 22,
   "metadata": {},
   "outputs": [
    {
     "data": {
      "text/plain": [
       "Ttest_indResult(statistic=-5.737148567819786, pvalue=9.028101553624145e-06)"
      ]
     },
     "execution_count": 22,
     "metadata": {},
     "output_type": "execute_result"
    }
   ],
   "source": [
    "stats.ttest_ind(oxoplate_mutants[oxoplate_mutants['genotype'] == 'glucose']['value'],\n",
    "                  oxoplate_mutants[oxoplate_mutants['genotype'] == 'rgt2snf3']['value'])"
   ]
  },
  {
   "cell_type": "code",
   "execution_count": null,
   "metadata": {},
   "outputs": [],
   "source": []
  },
  {
   "cell_type": "code",
   "execution_count": null,
   "metadata": {},
   "outputs": [],
   "source": []
  }
 ],
 "metadata": {
  "kernelspec": {
   "display_name": "Python 3",
   "language": "python",
   "name": "python3"
  },
  "language_info": {
   "codemirror_mode": {
    "name": "ipython",
    "version": 3
   },
   "file_extension": ".py",
   "mimetype": "text/x-python",
   "name": "python",
   "nbconvert_exporter": "python",
   "pygments_lexer": "ipython3",
   "version": "3.7.4"
  }
 },
 "nbformat": 4,
 "nbformat_minor": 2
}
