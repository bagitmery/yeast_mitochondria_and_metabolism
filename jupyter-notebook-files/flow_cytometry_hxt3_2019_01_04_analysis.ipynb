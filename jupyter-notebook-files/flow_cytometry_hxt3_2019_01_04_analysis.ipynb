{
 "cells": [
  {
   "cell_type": "code",
   "execution_count": 1,
   "metadata": {},
   "outputs": [],
   "source": [
    "# This notebook was written for Python 2.7\n",
    "import FlowCytometryTools as fct\n",
    "import pandas as pd\n",
    "import seaborn as sns\n",
    "import matplotlib.pyplot as plt\n",
    "import numpy as np \n",
    "from operator import truediv\n",
    "\n",
    "%matplotlib inline"
   ]
  },
  {
   "cell_type": "code",
   "execution_count": 2,
   "metadata": {},
   "outputs": [],
   "source": [
    "blues = sns.color_palette('Blues', 9)\n",
    "reds = sns.color_palette('Reds', 9)\n",
    "greens = sns.color_palette('Greens', 9)\n",
    "oranges = sns.color_palette('Oranges', 9)\n",
    "grays = sns.color_palette('Greys', 9)\n",
    "\n",
    "\n",
    "\n",
    "bw = {'axis.labelcolor': 'white', 'xtick.color': 'white', 'ytick.color': 'white',\n",
    "     'grid.color': 'white', 'axes.edgecolor': 'white', 'axes.facecolor': 'black',\n",
    "     'text.color': 'white', 'axes.labelcolor': 'white', 'figure.facecolor' : 'black',\n",
    "     'xtick.major.size': 5.0, 'xtick.minor.size': 5.0, \n",
    "      'ytick.major.size': 5.0, 'ytick.minor.size': 5.0, 'axes.linewidth': 1.0}"
   ]
  },
  {
   "cell_type": "code",
   "execution_count": 3,
   "metadata": {},
   "outputs": [],
   "source": [
    "bw_tickless = {'axis.labelcolor': 'white', 'grid.color': 'white', \n",
    "               'axes.edgecolor': 'white', 'axes.facecolor': 'black', 'text.color': 'white', \n",
    "               'axes.labelcolor': 'white', 'figure.facecolor' : 'black', 'axes.linewidth': 1.0,\n",
    "              'xtick.color': 'white', 'ytick.color': 'white'}"
   ]
  },
  {
   "cell_type": "markdown",
   "metadata": {},
   "source": [
    "## Data import from .fcs files"
   ]
  },
  {
   "cell_type": "code",
   "execution_count": 4,
   "metadata": {},
   "outputs": [],
   "source": [
    "yLB256 = pd.DataFrame()\n",
    "\n",
    "time_stamps = ['plus', '0', '1', '2', '3', '4', '6', '24']\n",
    "times = [-1, 0, 1, 2, 3, 4, 6, 24]\n",
    "\n",
    "for t in range(len(times)):\n",
    "    datafile = '2019_01_04/yLB256_t' + time_stamps[t] + '.fcs'\n",
    "    sample = fct.FCMeasurement(ID = 'yLB256_' + str(time_stamps[t]), datafile = datafile)\n",
    "    subset = sample.data[['FSC-A', 'SSC-A',\n",
    "                         'PE-Texas Red-A', 'mCherry-A', 'DsRed-A', 'FITC-A']]\n",
    "    subset['time'] = times[t]\n",
    "    yLB256 = pd.concat([yLB256, subset])\n"
   ]
  },
  {
   "cell_type": "code",
   "execution_count": 5,
   "metadata": {},
   "outputs": [],
   "source": [
    "yLB297 = pd.DataFrame()\n",
    "\n",
    "time_stamps = ['plus', '0', '1', '2', '3', '4', '6', '24']\n",
    "times = [-1, 0, 1, 2, 3, 4, 6, 24]\n",
    "\n",
    "for t in range(len(times)):\n",
    "    datafile = '2019_01_04/yLB297_t' + time_stamps[t] + '.fcs'\n",
    "    sample = fct.FCMeasurement(ID = 'yLB297_' + str(time_stamps[t]), datafile = datafile)\n",
    "    subset = sample.data[['FSC-A', 'SSC-A',\n",
    "                         'PE-Texas Red-A', 'mCherry-A', 'DsRed-A', 'FITC-A']]\n",
    "    subset['time'] = times[t]\n",
    "    yLB297 = pd.concat([yLB297, subset])\n",
    "\n"
   ]
  },
  {
   "cell_type": "code",
   "execution_count": 6,
   "metadata": {},
   "outputs": [],
   "source": [
    "yLB299 = pd.DataFrame()\n",
    "\n",
    "time_stamps = ['plus', '0', '1', '2', '3', '4', '6', '24']\n",
    "times = [-1, 0, 1, 2, 3, 4, 6, 24]\n",
    "\n",
    "for t in range(len(times)):\n",
    "    datafile = '2019_01_04/yLB299_t' + time_stamps[t] + '.fcs'\n",
    "    sample = fct.FCMeasurement(ID = 'yLB299_' + str(time_stamps[t]), datafile = datafile)\n",
    "    subset = sample.data[['FSC-A', 'SSC-A',\n",
    "                         'PE-Texas Red-A', 'mCherry-A', 'DsRed-A', 'FITC-A']]\n",
    "    subset['time'] = times[t]\n",
    "    yLB299 = pd.concat([yLB299, subset])\n",
    "\n"
   ]
  },
  {
   "cell_type": "code",
   "execution_count": 7,
   "metadata": {},
   "outputs": [],
   "source": [
    "datafile = '2019_01_04/yLB256_tplus.fcs'\n",
    "sample = fct.FCMeasurement(ID = 'yLB256_plus', datafile = datafile)\n",
    "\n",
    "#sample.view_interactively()"
   ]
  },
  {
   "cell_type": "code",
   "execution_count": 8,
   "metadata": {},
   "outputs": [],
   "source": [
    "scatter_gate = fct.PolyGate([(2.528e+04, 2.864e+04),\n",
    "                                 (4.752e+04, 1.108e+05),\n",
    "                                 (9.293e+04, 1.849e+05),\n",
    "                                 (1.402e+05, 2.503e+05),\n",
    "                                 (1.951e+05, 2.565e+05),\n",
    "                                 (2.382e+05, 2.453e+05),\n",
    "                                 (2.467e+05, 1.426e+05),\n",
    "                                 (2.121e+05, 8.717e+04),\n",
    "                                 (1.677e+05, 2.739e+04),\n",
    "                                 (1.279e+05, 1.431e+04),\n",
    "                                 (5.698e+04, 1.182e+04),\n",
    "                                 (2.623e+04, 1.992e+04),\n",
    "                                 (2.576e+04, 2.988e+04)],\n",
    "                                ('FSC-A', 'SSC-A'), region='in', name='scatter_gate')"
   ]
  },
  {
   "cell_type": "code",
   "execution_count": 9,
   "metadata": {},
   "outputs": [
    {
     "name": "stderr",
     "output_type": "stream",
     "text": [
      "/Users/laurabagamery/opt/anaconda3/envs/py27/lib/python2.7/site-packages/ipykernel_launcher.py:12: SettingWithCopyWarning: \n",
      "A value is trying to be set on a copy of a slice from a DataFrame.\n",
      "Try using .loc[row_indexer,col_indexer] = value instead\n",
      "\n",
      "See the caveats in the documentation: http://pandas.pydata.org/pandas-docs/stable/indexing.html#indexing-view-versus-copy\n",
      "  if sys.path[0] == '':\n"
     ]
    }
   ],
   "source": [
    "yLB256_gated = pd.DataFrame()\n",
    "\n",
    "time_stamps = ['plus', '0', '1', '2', '3', '4', '6', '24']\n",
    "times = [-1, 0, 1, 2, 3, 4, 6, 24]\n",
    "\n",
    "for t in range(len(times)):\n",
    "    datafile = '2019_01_04/yLB256_t' + time_stamps[t] + '.fcs'\n",
    "    sample = fct.FCMeasurement(ID = 'yLB256_' + str(time_stamps[t]), datafile = datafile)\n",
    "    sample = sample.gate(scatter_gate)\n",
    "    subset = sample.data[['FSC-A', 'SSC-A',\n",
    "                         'PE-Texas Red-A', 'mCherry-A', 'DsRed-A', 'FITC-A']]\n",
    "    subset['time'] = times[t]\n",
    "    yLB256_gated = pd.concat([yLB256_gated, subset])\n"
   ]
  },
  {
   "cell_type": "code",
   "execution_count": 10,
   "metadata": {},
   "outputs": [
    {
     "data": {
      "text/html": [
       "<div>\n",
       "<style scoped>\n",
       "    .dataframe tbody tr th:only-of-type {\n",
       "        vertical-align: middle;\n",
       "    }\n",
       "\n",
       "    .dataframe tbody tr th {\n",
       "        vertical-align: top;\n",
       "    }\n",
       "\n",
       "    .dataframe thead th {\n",
       "        text-align: right;\n",
       "    }\n",
       "</style>\n",
       "<table border=\"1\" class=\"dataframe\">\n",
       "  <thead>\n",
       "    <tr style=\"text-align: right;\">\n",
       "      <th></th>\n",
       "      <th>FSC-A</th>\n",
       "      <th>SSC-A</th>\n",
       "      <th>PE-Texas Red-A</th>\n",
       "      <th>mCherry-A</th>\n",
       "      <th>DsRed-A</th>\n",
       "      <th>FITC-A</th>\n",
       "      <th>time</th>\n",
       "    </tr>\n",
       "  </thead>\n",
       "  <tbody>\n",
       "    <tr>\n",
       "      <th>27560</th>\n",
       "      <td>145862.328125</td>\n",
       "      <td>136724.875000</td>\n",
       "      <td>1820.940063</td>\n",
       "      <td>608.299988</td>\n",
       "      <td>659.119995</td>\n",
       "      <td>11751.480469</td>\n",
       "      <td>2</td>\n",
       "    </tr>\n",
       "    <tr>\n",
       "      <th>18368</th>\n",
       "      <td>119898.539062</td>\n",
       "      <td>72430.257812</td>\n",
       "      <td>1421.969971</td>\n",
       "      <td>322.630005</td>\n",
       "      <td>552.089966</td>\n",
       "      <td>11028.870117</td>\n",
       "      <td>2</td>\n",
       "    </tr>\n",
       "    <tr>\n",
       "      <th>4934</th>\n",
       "      <td>105309.640625</td>\n",
       "      <td>84880.171875</td>\n",
       "      <td>705.869995</td>\n",
       "      <td>500.500000</td>\n",
       "      <td>289.519989</td>\n",
       "      <td>7611.120117</td>\n",
       "      <td>3</td>\n",
       "    </tr>\n",
       "    <tr>\n",
       "      <th>15492</th>\n",
       "      <td>123502.640625</td>\n",
       "      <td>95770.468750</td>\n",
       "      <td>42.779999</td>\n",
       "      <td>263.339996</td>\n",
       "      <td>283.359985</td>\n",
       "      <td>7576.709961</td>\n",
       "      <td>1</td>\n",
       "    </tr>\n",
       "    <tr>\n",
       "      <th>25124</th>\n",
       "      <td>100053.218750</td>\n",
       "      <td>57100.140625</td>\n",
       "      <td>895.590027</td>\n",
       "      <td>359.589996</td>\n",
       "      <td>960.190002</td>\n",
       "      <td>140.430008</td>\n",
       "      <td>0</td>\n",
       "    </tr>\n",
       "  </tbody>\n",
       "</table>\n",
       "</div>"
      ],
      "text/plain": [
       "               FSC-A          SSC-A  PE-Texas Red-A   mCherry-A     DsRed-A  \\\n",
       "27560  145862.328125  136724.875000     1820.940063  608.299988  659.119995   \n",
       "18368  119898.539062   72430.257812     1421.969971  322.630005  552.089966   \n",
       "4934   105309.640625   84880.171875      705.869995  500.500000  289.519989   \n",
       "15492  123502.640625   95770.468750       42.779999  263.339996  283.359985   \n",
       "25124  100053.218750   57100.140625      895.590027  359.589996  960.190002   \n",
       "\n",
       "             FITC-A  time  \n",
       "27560  11751.480469     2  \n",
       "18368  11028.870117     2  \n",
       "4934    7611.120117     3  \n",
       "15492   7576.709961     1  \n",
       "25124    140.430008     0  "
      ]
     },
     "execution_count": 10,
     "metadata": {},
     "output_type": "execute_result"
    }
   ],
   "source": [
    "yLB256_gated.head()\n",
    "yLB256_gated.tail()\n",
    "yLB256_gated.sample(n = 5)"
   ]
  },
  {
   "cell_type": "code",
   "execution_count": 11,
   "metadata": {},
   "outputs": [
    {
     "name": "stderr",
     "output_type": "stream",
     "text": [
      "/Users/laurabagamery/opt/anaconda3/envs/py27/lib/python2.7/site-packages/ipykernel_launcher.py:12: SettingWithCopyWarning: \n",
      "A value is trying to be set on a copy of a slice from a DataFrame.\n",
      "Try using .loc[row_indexer,col_indexer] = value instead\n",
      "\n",
      "See the caveats in the documentation: http://pandas.pydata.org/pandas-docs/stable/indexing.html#indexing-view-versus-copy\n",
      "  if sys.path[0] == '':\n"
     ]
    }
   ],
   "source": [
    "yLB297_gated = pd.DataFrame()\n",
    "\n",
    "time_stamps = ['plus', '0', '1', '2', '3', '4', '6', '24']\n",
    "times = [-1, 0, 1, 2, 3, 4, 6, 24]\n",
    "\n",
    "for t in range(len(times)):\n",
    "    datafile = '2019_01_04/yLB297_t' + time_stamps[t] + '.fcs'\n",
    "    sample = fct.FCMeasurement(ID = 'yLB297_' + str(time_stamps[t]), datafile = datafile)\n",
    "    sample = sample.gate(scatter_gate)\n",
    "    subset = sample.data[['FSC-A', 'SSC-A',\n",
    "                         'PE-Texas Red-A', 'mCherry-A', 'DsRed-A', 'FITC-A']]\n",
    "    subset['time'] = times[t]\n",
    "    yLB297_gated = pd.concat([yLB297_gated, subset])\n"
   ]
  },
  {
   "cell_type": "code",
   "execution_count": 12,
   "metadata": {},
   "outputs": [
    {
     "name": "stderr",
     "output_type": "stream",
     "text": [
      "/Users/laurabagamery/opt/anaconda3/envs/py27/lib/python2.7/site-packages/ipykernel_launcher.py:12: SettingWithCopyWarning: \n",
      "A value is trying to be set on a copy of a slice from a DataFrame.\n",
      "Try using .loc[row_indexer,col_indexer] = value instead\n",
      "\n",
      "See the caveats in the documentation: http://pandas.pydata.org/pandas-docs/stable/indexing.html#indexing-view-versus-copy\n",
      "  if sys.path[0] == '':\n"
     ]
    }
   ],
   "source": [
    "yLB299_gated = pd.DataFrame()\n",
    "\n",
    "time_stamps = ['plus', '0', '1', '2', '3', '4', '6', '24']\n",
    "times = [-1, 0, 1, 2, 3, 4, 6, 24]\n",
    "\n",
    "for t in range(len(times)):\n",
    "    datafile = '2019_01_04/yLB299_t' + time_stamps[t] + '.fcs'\n",
    "    sample = fct.FCMeasurement(ID = 'yLB299_' + str(time_stamps[t]), datafile = datafile)\n",
    "    sample = sample.gate(scatter_gate)\n",
    "    subset = sample.data[['FSC-A', 'SSC-A',\n",
    "                         'PE-Texas Red-A', 'mCherry-A', 'DsRed-A', 'FITC-A']]\n",
    "    subset['time'] = times[t]\n",
    "    yLB299_gated = pd.concat([yLB299_gated, subset])\n"
   ]
  },
  {
   "cell_type": "code",
   "execution_count": 13,
   "metadata": {},
   "outputs": [
    {
     "data": {
      "text/html": [
       "<div>\n",
       "<style scoped>\n",
       "    .dataframe tbody tr th:only-of-type {\n",
       "        vertical-align: middle;\n",
       "    }\n",
       "\n",
       "    .dataframe tbody tr th {\n",
       "        vertical-align: top;\n",
       "    }\n",
       "\n",
       "    .dataframe thead th {\n",
       "        text-align: right;\n",
       "    }\n",
       "</style>\n",
       "<table border=\"1\" class=\"dataframe\">\n",
       "  <thead>\n",
       "    <tr style=\"text-align: right;\">\n",
       "      <th></th>\n",
       "      <th>FSC-A</th>\n",
       "      <th>SSC-A</th>\n",
       "      <th>PE-Texas Red-A</th>\n",
       "      <th>mCherry-A</th>\n",
       "      <th>DsRed-A</th>\n",
       "      <th>FITC-A</th>\n",
       "      <th>time</th>\n",
       "    </tr>\n",
       "  </thead>\n",
       "  <tbody>\n",
       "    <tr>\n",
       "      <th>11892</th>\n",
       "      <td>91122.320312</td>\n",
       "      <td>52567.320312</td>\n",
       "      <td>1367.099976</td>\n",
       "      <td>123.199997</td>\n",
       "      <td>29.259998</td>\n",
       "      <td>588.690002</td>\n",
       "      <td>24</td>\n",
       "    </tr>\n",
       "    <tr>\n",
       "      <th>1598</th>\n",
       "      <td>149824.296875</td>\n",
       "      <td>106370.609375</td>\n",
       "      <td>2425.439941</td>\n",
       "      <td>708.399963</td>\n",
       "      <td>619.849976</td>\n",
       "      <td>163.680008</td>\n",
       "      <td>6</td>\n",
       "    </tr>\n",
       "    <tr>\n",
       "      <th>16516</th>\n",
       "      <td>140207.078125</td>\n",
       "      <td>142807.078125</td>\n",
       "      <td>2816.969971</td>\n",
       "      <td>733.809998</td>\n",
       "      <td>910.909973</td>\n",
       "      <td>18063.390625</td>\n",
       "      <td>1</td>\n",
       "    </tr>\n",
       "    <tr>\n",
       "      <th>8920</th>\n",
       "      <td>94047.921875</td>\n",
       "      <td>65657.070312</td>\n",
       "      <td>1924.170044</td>\n",
       "      <td>144.759995</td>\n",
       "      <td>-29.259998</td>\n",
       "      <td>4550.490234</td>\n",
       "      <td>2</td>\n",
       "    </tr>\n",
       "    <tr>\n",
       "      <th>21630</th>\n",
       "      <td>121512.218750</td>\n",
       "      <td>148643.765625</td>\n",
       "      <td>1808.849976</td>\n",
       "      <td>458.149994</td>\n",
       "      <td>910.909973</td>\n",
       "      <td>7551.600098</td>\n",
       "      <td>0</td>\n",
       "    </tr>\n",
       "  </tbody>\n",
       "</table>\n",
       "</div>"
      ],
      "text/plain": [
       "               FSC-A          SSC-A  PE-Texas Red-A   mCherry-A     DsRed-A  \\\n",
       "11892   91122.320312   52567.320312     1367.099976  123.199997   29.259998   \n",
       "1598   149824.296875  106370.609375     2425.439941  708.399963  619.849976   \n",
       "16516  140207.078125  142807.078125     2816.969971  733.809998  910.909973   \n",
       "8920    94047.921875   65657.070312     1924.170044  144.759995  -29.259998   \n",
       "21630  121512.218750  148643.765625     1808.849976  458.149994  910.909973   \n",
       "\n",
       "             FITC-A  time  \n",
       "11892    588.690002    24  \n",
       "1598     163.680008     6  \n",
       "16516  18063.390625     1  \n",
       "8920    4550.490234     2  \n",
       "21630   7551.600098     0  "
      ]
     },
     "execution_count": 13,
     "metadata": {},
     "output_type": "execute_result"
    }
   ],
   "source": [
    "yLB297_gated.head()\n",
    "yLB297_gated.tail()\n",
    "yLB297_gated.sample(n = 5)"
   ]
  },
  {
   "cell_type": "code",
   "execution_count": 14,
   "metadata": {},
   "outputs": [
    {
     "data": {
      "text/html": [
       "<div>\n",
       "<style scoped>\n",
       "    .dataframe tbody tr th:only-of-type {\n",
       "        vertical-align: middle;\n",
       "    }\n",
       "\n",
       "    .dataframe tbody tr th {\n",
       "        vertical-align: top;\n",
       "    }\n",
       "\n",
       "    .dataframe thead th {\n",
       "        text-align: right;\n",
       "    }\n",
       "</style>\n",
       "<table border=\"1\" class=\"dataframe\">\n",
       "  <thead>\n",
       "    <tr style=\"text-align: right;\">\n",
       "      <th></th>\n",
       "      <th>FSC-A</th>\n",
       "      <th>SSC-A</th>\n",
       "      <th>PE-Texas Red-A</th>\n",
       "      <th>mCherry-A</th>\n",
       "      <th>DsRed-A</th>\n",
       "      <th>FITC-A</th>\n",
       "      <th>time</th>\n",
       "    </tr>\n",
       "  </thead>\n",
       "  <tbody>\n",
       "    <tr>\n",
       "      <th>4552</th>\n",
       "      <td>169684.343750</td>\n",
       "      <td>181995.421875</td>\n",
       "      <td>2286.870117</td>\n",
       "      <td>624.469971</td>\n",
       "      <td>847.769958</td>\n",
       "      <td>12029.549805</td>\n",
       "      <td>1</td>\n",
       "    </tr>\n",
       "    <tr>\n",
       "      <th>5394</th>\n",
       "      <td>149147.187500</td>\n",
       "      <td>175902.984375</td>\n",
       "      <td>2407.770020</td>\n",
       "      <td>577.500000</td>\n",
       "      <td>336.489990</td>\n",
       "      <td>13027.440430</td>\n",
       "      <td>2</td>\n",
       "    </tr>\n",
       "    <tr>\n",
       "      <th>24264</th>\n",
       "      <td>221136.265625</td>\n",
       "      <td>216908.546875</td>\n",
       "      <td>4640.700195</td>\n",
       "      <td>876.259949</td>\n",
       "      <td>740.739990</td>\n",
       "      <td>20894.310547</td>\n",
       "      <td>3</td>\n",
       "    </tr>\n",
       "    <tr>\n",
       "      <th>18086</th>\n",
       "      <td>176099.500000</td>\n",
       "      <td>122826.031250</td>\n",
       "      <td>2292.449951</td>\n",
       "      <td>636.019958</td>\n",
       "      <td>971.739990</td>\n",
       "      <td>15189.690430</td>\n",
       "      <td>-1</td>\n",
       "    </tr>\n",
       "    <tr>\n",
       "      <th>29784</th>\n",
       "      <td>87681.062500</td>\n",
       "      <td>168677.828125</td>\n",
       "      <td>3693.959961</td>\n",
       "      <td>513.589966</td>\n",
       "      <td>1537.689941</td>\n",
       "      <td>469.649994</td>\n",
       "      <td>-1</td>\n",
       "    </tr>\n",
       "  </tbody>\n",
       "</table>\n",
       "</div>"
      ],
      "text/plain": [
       "               FSC-A          SSC-A  PE-Texas Red-A   mCherry-A      DsRed-A  \\\n",
       "4552   169684.343750  181995.421875     2286.870117  624.469971   847.769958   \n",
       "5394   149147.187500  175902.984375     2407.770020  577.500000   336.489990   \n",
       "24264  221136.265625  216908.546875     4640.700195  876.259949   740.739990   \n",
       "18086  176099.500000  122826.031250     2292.449951  636.019958   971.739990   \n",
       "29784   87681.062500  168677.828125     3693.959961  513.589966  1537.689941   \n",
       "\n",
       "             FITC-A  time  \n",
       "4552   12029.549805     1  \n",
       "5394   13027.440430     2  \n",
       "24264  20894.310547     3  \n",
       "18086  15189.690430    -1  \n",
       "29784    469.649994    -1  "
      ]
     },
     "execution_count": 14,
     "metadata": {},
     "output_type": "execute_result"
    }
   ],
   "source": [
    "yLB299_gated.head()\n",
    "yLB299_gated.tail()\n",
    "yLB299_gated.sample(n = 5)"
   ]
  },
  {
   "cell_type": "code",
   "execution_count": 15,
   "metadata": {},
   "outputs": [],
   "source": [
    "yLB256_pos = yLB256_gated.copy(deep = True)\n",
    "yLB256_pos.loc[yLB256_pos['FITC-A'] < 1, 'FITC-A'] = 1\n",
    "yLB256_pos.loc[yLB256_pos['mCherry-A'] < 1, 'mCherry-A'] = 1"
   ]
  },
  {
   "cell_type": "code",
   "execution_count": 16,
   "metadata": {},
   "outputs": [],
   "source": [
    "yLB297_pos = yLB297_gated.copy(deep = True)\n",
    "yLB297_pos.loc[yLB297_pos['FITC-A'] < 1, 'FITC-A'] = 1\n",
    "yLB297_pos.loc[yLB297_pos['mCherry-A'] < 1, 'mCherry-A'] = 1"
   ]
  },
  {
   "cell_type": "code",
   "execution_count": 17,
   "metadata": {},
   "outputs": [],
   "source": [
    "yLB299_pos = yLB299_gated.copy(deep = True)\n",
    "yLB299_pos.loc[yLB299_pos['FITC-A'] < 1, 'FITC-A'] = 1\n",
    "yLB299_pos.loc[yLB299_pos['mCherry-A'] < 1, 'mCherry-A'] = 1"
   ]
  },
  {
   "cell_type": "code",
   "execution_count": 18,
   "metadata": {},
   "outputs": [
    {
     "name": "stderr",
     "output_type": "stream",
     "text": [
      "/Users/laurabagamery/opt/anaconda3/envs/py27/lib/python2.7/site-packages/ipykernel_launcher.py:2: SettingWithCopyWarning: \n",
      "A value is trying to be set on a copy of a slice from a DataFrame.\n",
      "Try using .loc[row_indexer,col_indexer] = value instead\n",
      "\n",
      "See the caveats in the documentation: http://pandas.pydata.org/pandas-docs/stable/indexing.html#indexing-view-versus-copy\n",
      "  \n"
     ]
    }
   ],
   "source": [
    "yLB256_joyplot = yLB256_pos[['FITC-A', 'time']]\n",
    "yLB256_joyplot['FITC-A'] = np.log10(yLB256_joyplot['FITC-A'])"
   ]
  },
  {
   "cell_type": "code",
   "execution_count": 19,
   "metadata": {},
   "outputs": [
    {
     "name": "stderr",
     "output_type": "stream",
     "text": [
      "/Users/laurabagamery/opt/anaconda3/envs/py27/lib/python2.7/site-packages/ipykernel_launcher.py:2: SettingWithCopyWarning: \n",
      "A value is trying to be set on a copy of a slice from a DataFrame.\n",
      "Try using .loc[row_indexer,col_indexer] = value instead\n",
      "\n",
      "See the caveats in the documentation: http://pandas.pydata.org/pandas-docs/stable/indexing.html#indexing-view-versus-copy\n",
      "  \n"
     ]
    }
   ],
   "source": [
    "yLB297_joyplot = yLB297_pos[['FITC-A', 'time']]\n",
    "yLB297_joyplot['FITC-A'] = np.log10(yLB297_joyplot['FITC-A'])"
   ]
  },
  {
   "cell_type": "code",
   "execution_count": 20,
   "metadata": {},
   "outputs": [
    {
     "name": "stderr",
     "output_type": "stream",
     "text": [
      "/Users/laurabagamery/opt/anaconda3/envs/py27/lib/python2.7/site-packages/ipykernel_launcher.py:2: SettingWithCopyWarning: \n",
      "A value is trying to be set on a copy of a slice from a DataFrame.\n",
      "Try using .loc[row_indexer,col_indexer] = value instead\n",
      "\n",
      "See the caveats in the documentation: http://pandas.pydata.org/pandas-docs/stable/indexing.html#indexing-view-versus-copy\n",
      "  \n"
     ]
    }
   ],
   "source": [
    "yLB299_joyplot = yLB299_pos[['FITC-A', 'time']]\n",
    "yLB299_joyplot['FITC-A'] = np.log10(yLB299_joyplot['FITC-A'])"
   ]
  },
  {
   "cell_type": "code",
   "execution_count": 21,
   "metadata": {},
   "outputs": [],
   "source": [
    "yLB297_joyplot = yLB297_joyplot.assign(genotype = 'hxk2')\n",
    "yLB299_joyplot = yLB299_joyplot.assign(genotype = 'snf1')\n",
    "yLB256_joyplot = yLB256_joyplot.assign(genotype = 'wildtype')\n",
    "\n",
    "combo = pd.concat([yLB299_joyplot, yLB297_joyplot, yLB256_joyplot])"
   ]
  },
  {
   "cell_type": "code",
   "execution_count": 22,
   "metadata": {},
   "outputs": [
    {
     "data": {
      "text/plain": [
       "<seaborn.axisgrid.FacetGrid at 0x1a220420d0>"
      ]
     },
     "execution_count": 22,
     "metadata": {},
     "output_type": "execute_result"
    },
    {
     "data": {
      "image/png": "[encoded data removed]",
      "text/plain": [
       "<Figure size 270x378 with 7 Axes>"
      ]
     },
     "metadata": {},
     "output_type": "display_data"
    }
   ],
   "source": [
    "sns.set(style=\"ticks\", rc={\"axes.facecolor\": (0, 0, 0, 0)})\n",
    "sns.set_context('paper', font_scale = 1.5)\n",
    "\n",
    "pal = [blues[5], reds[5], grays[5]]\n",
    "sns.set_palette(pal)\n",
    "\n",
    "combo_6h = combo[combo['time'] != 24]\n",
    "combo_6h = combo_6h[combo_6h['FITC-A'] >= 1]\n",
    "\n",
    "\n",
    "g = sns.FacetGrid(combo_6h, row = 'time', palette = pal, hue = 'genotype', \n",
    "                  aspect = 5, height = 0.75, legend_out = True);\n",
    "g.map(sns.kdeplot, 'FITC-A', clip_on = False, shade = True, alpha = 0.8, lw = 0);\n",
    "g.map(plt.axhline, y = 0, lw = 2, color = 'black');\n",
    "\n",
    "#placeholder_pH = yLB416_pH[['pH', 'time']]\n",
    "\n",
    "\n",
    "\n",
    "time_labels = ['plus', '0h', '1h', '2h', '3h', '4h', '6h']\n",
    "times = [-1, 0, 1, 2, 3, 4, 6]\n",
    "\n",
    "#def label(x, color, label):\n",
    "#    ax = plt.gca()\n",
    "#    ax.text(0, 0.2, time_labels[times.index(int(label))], fontweight = 'bold', color = 'black', fontsize = 16,\n",
    "#           ha = 'left', va = 'center', transform = ax.transAxes)\n",
    "\n",
    "#g.map(label, 'time')\n",
    "axes = g.axes\n",
    "for ax in range(len(axes)):\n",
    "    axes[ax,0].set_xlim(1,5)\n",
    "    if ax == 6:\n",
    "        axes[ax,0].set_xlabel('Hxt3-mNeonGreen ($\\mathregular{log_{10}au}$)')\n",
    "\n",
    "# Set the subplots to overlap\n",
    "g.fig.subplots_adjust(hspace=-.25)\n",
    "\n",
    "g.fig.suptitle('')\n",
    "\n",
    "# Remove axes details that don't play well with overlap\n",
    "g.set_titles('')\n",
    "g.set(yticks=[])\n",
    "g.despine(bottom=True, left=True)\n"
   ]
  },
  {
   "cell_type": "code",
   "execution_count": 23,
   "metadata": {},
   "outputs": [
    {
     "data": {
      "text/html": [
       "<div>\n",
       "<style scoped>\n",
       "    .dataframe tbody tr th:only-of-type {\n",
       "        vertical-align: middle;\n",
       "    }\n",
       "\n",
       "    .dataframe tbody tr th {\n",
       "        vertical-align: top;\n",
       "    }\n",
       "\n",
       "    .dataframe thead th {\n",
       "        text-align: right;\n",
       "    }\n",
       "</style>\n",
       "<table border=\"1\" class=\"dataframe\">\n",
       "  <thead>\n",
       "    <tr style=\"text-align: right;\">\n",
       "      <th></th>\n",
       "      <th>FITC-A</th>\n",
       "      <th>time</th>\n",
       "      <th>genotype</th>\n",
       "    </tr>\n",
       "  </thead>\n",
       "  <tbody>\n",
       "    <tr>\n",
       "      <th>39995</th>\n",
       "      <td>2.403052</td>\n",
       "      <td>24</td>\n",
       "      <td>hxk2</td>\n",
       "    </tr>\n",
       "    <tr>\n",
       "      <th>39996</th>\n",
       "      <td>0.000000</td>\n",
       "      <td>24</td>\n",
       "      <td>hxk2</td>\n",
       "    </tr>\n",
       "    <tr>\n",
       "      <th>39997</th>\n",
       "      <td>2.339551</td>\n",
       "      <td>24</td>\n",
       "      <td>hxk2</td>\n",
       "    </tr>\n",
       "    <tr>\n",
       "      <th>39998</th>\n",
       "      <td>2.628399</td>\n",
       "      <td>24</td>\n",
       "      <td>hxk2</td>\n",
       "    </tr>\n",
       "    <tr>\n",
       "      <th>39999</th>\n",
       "      <td>0.000000</td>\n",
       "      <td>24</td>\n",
       "      <td>hxk2</td>\n",
       "    </tr>\n",
       "  </tbody>\n",
       "</table>\n",
       "</div>"
      ],
      "text/plain": [
       "         FITC-A  time genotype\n",
       "39995  2.403052    24     hxk2\n",
       "39996  0.000000    24     hxk2\n",
       "39997  2.339551    24     hxk2\n",
       "39998  2.628399    24     hxk2\n",
       "39999  0.000000    24     hxk2"
      ]
     },
     "execution_count": 23,
     "metadata": {},
     "output_type": "execute_result"
    }
   ],
   "source": [
    "yLB297_joyplot.tail()"
   ]
  },
  {
   "cell_type": "code",
   "execution_count": 24,
   "metadata": {},
   "outputs": [
    {
     "name": "stderr",
     "output_type": "stream",
     "text": [
      "/Users/laurabagamery/opt/anaconda3/envs/py27/lib/python2.7/site-packages/ipykernel_launcher.py:7: SettingWithCopyWarning: \n",
      "A value is trying to be set on a copy of a slice from a DataFrame.\n",
      "Try using .loc[row_indexer,col_indexer] = value instead\n",
      "\n",
      "See the caveats in the documentation: http://pandas.pydata.org/pandas-docs/stable/indexing.html#indexing-view-versus-copy\n",
      "  import sys\n"
     ]
    },
    {
     "data": {
      "text/plain": [
       "<seaborn.axisgrid.FacetGrid at 0x1a2828ffd0>"
      ]
     },
     "execution_count": 24,
     "metadata": {},
     "output_type": "execute_result"
    },
    {
     "data": {
      "image/png": "[encoded data removed]",
      "text/plain": [
       "<Figure size 270x378 with 7 Axes>"
      ]
     },
     "metadata": {},
     "output_type": "display_data"
    }
   ],
   "source": [
    "sns.set(style=\"ticks\", rc={\"axes.facecolor\": (0, 0, 0, 0)})\n",
    "sns.set_context('paper', font_scale = 1.5)\n",
    "\n",
    "pal = sns.cubehelix_palette(10, rot=-.25, light=.7)\n",
    "\n",
    "yLB297_joyplot = yLB297_pos[['FITC-A', 'time']]\n",
    "yLB297_joyplot['FITC-A'] = np.log10(yLB297_joyplot['FITC-A'])\n",
    "yLB297_joyplot = yLB297_joyplot[yLB297_joyplot['time'] != 24]\n",
    "\n",
    "g = sns.FacetGrid(yLB297_joyplot, row = 'time', hue = 'time', \n",
    "                  aspect = 5, height = 0.75, legend_out = True);\n",
    "g.map(sns.kdeplot, 'FITC-A', color = reds[5], shade = True, alpha = 0.8, lw = 0);\n",
    "g.map(plt.axhline, y = 0, lw = 2, color = 'black');\n",
    "\n",
    "time_labels = ['plus', '0h', '1h', '2h', '3h', '4h', '6h']\n",
    "times = [-1, 0, 1, 2, 3, 4, 6]\n",
    "\n",
    "#def label(x, color, label):\n",
    "#    ax = plt.gca()\n",
    "#    ax.text(0, 0.2, time_labels[times.index(int(label))], fontweight = 'bold', color = 'black', fontsize = 16,\n",
    "#           ha = 'left', va = 'center', transform = ax.transAxes)\n",
    "\n",
    "#g.map(label, 'time')\n",
    "axes = g.axes\n",
    "for ax in range(len(axes)):\n",
    "    axes[ax,0].set_xlim(1,5)\n",
    "    if ax == 6:\n",
    "        axes[ax,0].set_xlabel('Hxt3-mNeonGreen ($\\mathregular{log_{10}au}$)')\n",
    "\n",
    "# Set the subplots to overlap\n",
    "g.fig.subplots_adjust(hspace=-.25)\n",
    "\n",
    "g.fig.suptitle('')\n",
    "\n",
    "# Remove axes details that don't play well with overlap\n",
    "g.set_titles('')\n",
    "g.set(yticks=[])\n",
    "g.despine(bottom=True, left=True)"
   ]
  },
  {
   "cell_type": "code",
   "execution_count": 25,
   "metadata": {},
   "outputs": [
    {
     "name": "stderr",
     "output_type": "stream",
     "text": [
      "/Users/laurabagamery/opt/anaconda3/envs/py27/lib/python2.7/site-packages/ipykernel_launcher.py:7: SettingWithCopyWarning: \n",
      "A value is trying to be set on a copy of a slice from a DataFrame.\n",
      "Try using .loc[row_indexer,col_indexer] = value instead\n",
      "\n",
      "See the caveats in the documentation: http://pandas.pydata.org/pandas-docs/stable/indexing.html#indexing-view-versus-copy\n",
      "  import sys\n"
     ]
    },
    {
     "data": {
      "text/plain": [
       "<seaborn.axisgrid.FacetGrid at 0x1a224c2dd0>"
      ]
     },
     "execution_count": 25,
     "metadata": {},
     "output_type": "execute_result"
    },
    {
     "data": {
      "image/png": "[encoded data removed]",
      "text/plain": [
       "<Figure size 270x378 with 7 Axes>"
      ]
     },
     "metadata": {},
     "output_type": "display_data"
    }
   ],
   "source": [
    "sns.set(style=\"ticks\", rc={\"axes.facecolor\": (0, 0, 0, 0)})\n",
    "sns.set_context('paper', font_scale = 1.5)\n",
    "\n",
    "pal = sns.cubehelix_palette(10, rot=-.25, light=.7)\n",
    "\n",
    "yLB256_joyplot = yLB256_pos[['FITC-A', 'time']]\n",
    "yLB256_joyplot['FITC-A'] = np.log10(yLB256_joyplot['FITC-A'])\n",
    "yLB256_joyplot = yLB256_joyplot[yLB256_joyplot['time'] != 24]\n",
    "\n",
    "g = sns.FacetGrid(yLB256_joyplot, row = 'time', hue = 'time', \n",
    "                  aspect = 5, height = 0.75, legend_out = True);\n",
    "g.map(sns.kdeplot, 'FITC-A', color = grays[5], shade = True, alpha = 0.8, lw = 0);\n",
    "g.map(plt.axhline, y = 0, lw = 2, color = 'black');\n",
    "\n",
    "time_labels = ['plus', '0h', '1h', '2h', '3h', '4h', '6h']\n",
    "times = [-1, 0, 1, 2, 3, 4, 6]\n",
    "\n",
    "#def label(x, color, label):\n",
    "#    ax = plt.gca()\n",
    "#    ax.text(0, 0.2, time_labels[times.index(int(label))], fontweight = 'bold', color = 'black', fontsize = 16,\n",
    "#           ha = 'left', va = 'center', transform = ax.transAxes)\n",
    "\n",
    "#g.map(label, 'time')\n",
    "axes = g.axes\n",
    "for ax in range(len(axes)):\n",
    "    axes[ax,0].set_xlim(1,5)\n",
    "    if ax == 6:\n",
    "        axes[ax,0].set_xlabel('Hxt3-mNeonGreen ($\\mathregular{log_{10}au}$)')\n",
    "\n",
    "# Set the subplots to overlap\n",
    "g.fig.subplots_adjust(hspace=-.25)\n",
    "\n",
    "g.fig.suptitle('')\n",
    "\n",
    "# Remove axes details that don't play well with overlap\n",
    "g.set_titles('')\n",
    "g.set(yticks=[])\n",
    "g.despine(bottom=True, left=True)"
   ]
  },
  {
   "cell_type": "code",
   "execution_count": 26,
   "metadata": {},
   "outputs": [
    {
     "name": "stderr",
     "output_type": "stream",
     "text": [
      "/Users/laurabagamery/opt/anaconda3/envs/py27/lib/python2.7/site-packages/ipykernel_launcher.py:7: SettingWithCopyWarning: \n",
      "A value is trying to be set on a copy of a slice from a DataFrame.\n",
      "Try using .loc[row_indexer,col_indexer] = value instead\n",
      "\n",
      "See the caveats in the documentation: http://pandas.pydata.org/pandas-docs/stable/indexing.html#indexing-view-versus-copy\n",
      "  import sys\n"
     ]
    },
    {
     "data": {
      "text/plain": [
       "<seaborn.axisgrid.FacetGrid at 0x1a22780b10>"
      ]
     },
     "execution_count": 26,
     "metadata": {},
     "output_type": "execute_result"
    },
    {
     "data": {
      "image/png": "[encoded data removed]",
      "text/plain": [
       "<Figure size 270x378 with 7 Axes>"
      ]
     },
     "metadata": {},
     "output_type": "display_data"
    }
   ],
   "source": [
    "sns.set(style=\"ticks\", rc={\"axes.facecolor\": (0, 0, 0, 0)})\n",
    "sns.set_context('paper', font_scale = 1.5)\n",
    "\n",
    "pal = sns.cubehelix_palette(10, rot=-.25, light=.7)\n",
    "\n",
    "yLB299_joyplot = yLB299_pos[['FITC-A', 'time']]\n",
    "yLB299_joyplot['FITC-A'] = np.log10(yLB299_joyplot['FITC-A'])\n",
    "yLB299_joyplot = yLB299_joyplot[yLB299_joyplot['time'] != 24]\n",
    "\n",
    "g = sns.FacetGrid(yLB299_joyplot, row = 'time', hue = 'time', \n",
    "                  aspect = 5, height = 0.75, legend_out = True);\n",
    "g.map(sns.kdeplot, 'FITC-A', color = blues[5], shade = True, alpha = 0.8, lw = 0);\n",
    "g.map(plt.axhline, y = 0, lw = 2, color = 'black');\n",
    "\n",
    "time_labels = ['plus', '0h', '1h', '2h', '3h', '4h', '6h']\n",
    "times = [-1, 0, 1, 2, 3, 4, 6]\n",
    "\n",
    "#def label(x, color, label):\n",
    "#    ax = plt.gca()\n",
    "#    ax.text(0, 0.2, time_labels[times.index(int(label))], fontweight = 'bold', color = 'black', fontsize = 16,\n",
    "#           ha = 'left', va = 'center', transform = ax.transAxes)\n",
    "\n",
    "#g.map(label, 'time')\n",
    "axes = g.axes\n",
    "for ax in range(len(axes)):\n",
    "    axes[ax,0].set_xlim(1,5)\n",
    "    if ax == 6:\n",
    "        axes[ax,0].set_xlabel('Hxt3-mNeonGreen ($\\mathregular{log_{10}au}$)')\n",
    "\n",
    "# Set the subplots to overlap\n",
    "g.fig.subplots_adjust(hspace=-.25)\n",
    "\n",
    "g.fig.suptitle('')\n",
    "\n",
    "# Remove axes details that don't play well with overlap\n",
    "g.set_titles('')\n",
    "g.set(yticks=[])\n",
    "g.despine(bottom=True, left=True)"
   ]
  },
  {
   "cell_type": "code",
   "execution_count": 27,
   "metadata": {},
   "outputs": [
    {
     "name": "stderr",
     "output_type": "stream",
     "text": [
      "/Users/laurabagamery/opt/anaconda3/envs/py27/lib/python2.7/site-packages/ipykernel_launcher.py:7: SettingWithCopyWarning: \n",
      "A value is trying to be set on a copy of a slice from a DataFrame.\n",
      "Try using .loc[row_indexer,col_indexer] = value instead\n",
      "\n",
      "See the caveats in the documentation: http://pandas.pydata.org/pandas-docs/stable/indexing.html#indexing-view-versus-copy\n",
      "  import sys\n",
      "/Users/laurabagamery/opt/anaconda3/envs/py27/lib/python2.7/site-packages/matplotlib/tight_layout.py:209: UserWarning: tight_layout cannot make axes height small enough to accommodate all axes decorations\n",
      "  warnings.warn('tight_layout cannot make axes height small enough '\n"
     ]
    },
    {
     "data": {
      "text/plain": [
       "<seaborn.axisgrid.FacetGrid at 0x1a2b5c2910>"
      ]
     },
     "execution_count": 27,
     "metadata": {},
     "output_type": "execute_result"
    },
    {
     "data": {
      "image/png": "[encoded data removed]",
      "text/plain": [
       "<Figure size 270x378 with 7 Axes>"
      ]
     },
     "metadata": {},
     "output_type": "display_data"
    }
   ],
   "source": [
    "sns.set(style=\"ticks\", rc={\"axes.facecolor\": (0, 0, 0, 0)})\n",
    "sns.set_context('talk')\n",
    "\n",
    "pal = sns.cubehelix_palette(10, rot=-.25, light=.7)\n",
    "\n",
    "yLB256_joyplot = yLB256_pos[['FITC-A', 'time']]\n",
    "yLB256_joyplot['FITC-A'] = np.log10(yLB256_joyplot['FITC-A'])\n",
    "yLB256_joyplot = yLB256_joyplot[yLB256_joyplot['time'] != 24]\n",
    "\n",
    "g = sns.FacetGrid(yLB256_joyplot, row = 'time', hue = 'time', \n",
    "                  aspect = 5, height = 0.75, legend_out = True);\n",
    "g.map(sns.kdeplot, 'FITC-A', color = grays[5], shade = True, alpha = 0.8, lw = 0);\n",
    "g.map(plt.axhline, y = 0, lw = 2, color = 'black');\n",
    "\n",
    "time_labels = ['plus', '0h', '1h', '2h', '3h', '4h', '6h']\n",
    "times = [-1, 0, 1, 2, 3, 4, 6]\n",
    "\n",
    "#def label(x, color, label):\n",
    "#    ax = plt.gca()\n",
    "#    ax.text(0, 0.2, time_labels[times.index(int(label))], fontweight = 'bold', color = 'black', fontsize = 16,\n",
    "#           ha = 'left', va = 'center', transform = ax.transAxes)\n",
    "\n",
    "#g.map(label, 'time')\n",
    "axes = g.axes\n",
    "for ax in range(len(axes)):\n",
    "    axes[ax,0].set_xlim(1,5)\n",
    "    if ax == 6:\n",
    "        axes[ax,0].set_xlabel('Hxt3-mNeonGreen ($\\mathregular{log_{10}au}$)')\n",
    "\n",
    "# Set the subplots to overlap\n",
    "g.fig.subplots_adjust(hspace=-.25)\n",
    "\n",
    "g.fig.suptitle('')\n",
    "\n",
    "# Remove axes details that don't play well with overlap\n",
    "g.set_titles('')\n",
    "g.set(yticks=[])\n",
    "g.despine(bottom=True, left=True)"
   ]
  },
  {
   "cell_type": "code",
   "execution_count": 28,
   "metadata": {},
   "outputs": [
    {
     "name": "stderr",
     "output_type": "stream",
     "text": [
      "/Users/laurabagamery/opt/anaconda3/envs/py27/lib/python2.7/site-packages/ipykernel_launcher.py:7: SettingWithCopyWarning: \n",
      "A value is trying to be set on a copy of a slice from a DataFrame.\n",
      "Try using .loc[row_indexer,col_indexer] = value instead\n",
      "\n",
      "See the caveats in the documentation: http://pandas.pydata.org/pandas-docs/stable/indexing.html#indexing-view-versus-copy\n",
      "  import sys\n"
     ]
    },
    {
     "data": {
      "text/plain": [
       "<seaborn.axisgrid.FacetGrid at 0x1a2ad3d8d0>"
      ]
     },
     "execution_count": 28,
     "metadata": {},
     "output_type": "execute_result"
    },
    {
     "data": {
      "image/png": "[encoded data removed]",
      "text/plain": [
       "<Figure size 270x378 with 7 Axes>"
      ]
     },
     "metadata": {},
     "output_type": "display_data"
    }
   ],
   "source": [
    "sns.set(style=\"ticks\", rc={\"axes.facecolor\": (0, 0, 0, 0)})\n",
    "sns.set_context('talk')\n",
    "\n",
    "pal = sns.cubehelix_palette(10, rot=-.25, light=.7)\n",
    "\n",
    "yLB297_joyplot = yLB297_pos[['FITC-A', 'time']]\n",
    "yLB297_joyplot['FITC-A'] = np.log10(yLB297_joyplot['FITC-A'])\n",
    "yLB297_joyplot = yLB297_joyplot[yLB297_joyplot['time'] != 24]\n",
    "\n",
    "g = sns.FacetGrid(yLB297_joyplot, row = 'time', hue = 'time', \n",
    "                  aspect = 5, height = 0.75, legend_out = True);\n",
    "g.map(sns.kdeplot, 'FITC-A', color = reds[5], shade = True, alpha = 0.8, lw = 0);\n",
    "g.map(plt.axhline, y = 0, lw = 2, color = 'black');\n",
    "\n",
    "time_labels = ['plus', '0h', '1h', '2h', '3h', '4h', '6h']\n",
    "times = [-1, 0, 1, 2, 3, 4, 6]\n",
    "\n",
    "#def label(x, color, label):\n",
    "#    ax = plt.gca()\n",
    "#    ax.text(0, 0.2, time_labels[times.index(int(label))], fontweight = 'bold', color = 'black', fontsize = 16,\n",
    "#           ha = 'left', va = 'center', transform = ax.transAxes)\n",
    "\n",
    "#g.map(label, 'time')\n",
    "axes = g.axes\n",
    "for ax in range(len(axes)):\n",
    "    axes[ax,0].set_xlim(1,5)\n",
    "    if ax == 6:\n",
    "        axes[ax,0].set_xlabel('Hxt3-mNeonGreen ($\\mathregular{log_{10}au}$)')\n",
    "\n",
    "# Set the subplots to overlap\n",
    "g.fig.subplots_adjust(hspace=-.25)\n",
    "\n",
    "g.fig.suptitle('')\n",
    "\n",
    "# Remove axes details that don't play well with overlap\n",
    "g.set_titles('')\n",
    "g.set(yticks=[])\n",
    "g.despine(bottom=True, left=True)"
   ]
  },
  {
   "cell_type": "code",
   "execution_count": 29,
   "metadata": {},
   "outputs": [
    {
     "data": {
      "text/plain": [
       "<seaborn.axisgrid.FacetGrid at 0x1a2b615e10>"
      ]
     },
     "execution_count": 29,
     "metadata": {},
     "output_type": "execute_result"
    },
    {
     "data": {
      "image/png": "[encoded data removed]",
      "text/plain": [
       "<Figure size 270x378 with 7 Axes>"
      ]
     },
     "metadata": {},
     "output_type": "display_data"
    }
   ],
   "source": [
    "sns.set(style=\"ticks\", rc={\"axes.facecolor\": (0, 0, 0, 0)})\n",
    "sns.set_context('talk')\n",
    "\n",
    "pal = [blues[5], reds[5], grays[5]]\n",
    "sns.set_palette(pal)\n",
    "\n",
    "combo_6h = combo[combo['time'] != 24]\n",
    "combo_6h = combo_6h[combo_6h['FITC-A'] >= 1]\n",
    "\n",
    "\n",
    "g = sns.FacetGrid(combo_6h, row = 'time', palette = pal, hue = 'genotype', \n",
    "                  aspect = 5, height = 0.75, legend_out = True);\n",
    "g.map(sns.kdeplot, 'FITC-A', clip_on = False, shade = True, alpha = 0.8, lw = 0);\n",
    "g.map(plt.axhline, y = 0, lw = 2, color = 'black');\n",
    "\n",
    "#placeholder_pH = yLB416_pH[['pH', 'time']]\n",
    "\n",
    "\n",
    "\n",
    "time_labels = ['plus', '0h', '1h', '2h', '3h', '4h', '6h']\n",
    "times = [-1, 0, 1, 2, 3, 4, 6]\n",
    "\n",
    "#def label(x, color, label):\n",
    "#    ax = plt.gca()\n",
    "#    ax.text(0, 0.2, time_labels[times.index(int(label))], fontweight = 'bold', color = 'black', fontsize = 16,\n",
    "#           ha = 'left', va = 'center', transform = ax.transAxes)\n",
    "\n",
    "#g.map(label, 'time')\n",
    "axes = g.axes\n",
    "for ax in range(len(axes)):\n",
    "    axes[ax,0].set_xlim(1,5)\n",
    "    if ax == 6:\n",
    "        axes[ax,0].set_xlabel('Hxt3-mNeonGreen ($\\mathregular{log_{10}au}$)')\n",
    "\n",
    "# Set the subplots to overlap\n",
    "g.fig.subplots_adjust(hspace=-.25)\n",
    "\n",
    "g.fig.suptitle('')\n",
    "\n",
    "# Remove axes details that don't play well with overlap\n",
    "g.set_titles('')\n",
    "g.set(yticks=[])\n",
    "g.despine(bottom=True, left=True)"
   ]
  },
  {
   "cell_type": "code",
   "execution_count": null,
   "metadata": {},
   "outputs": [],
   "source": []
  }
 ],
 "metadata": {
  "kernelspec": {
   "display_name": "Python 2.7",
   "language": "python",
   "name": "py27"
  },
  "language_info": {
   "codemirror_mode": {
    "name": "ipython",
    "version": 2
   },
   "file_extension": ".py",
   "mimetype": "text/x-python",
   "name": "python",
   "nbconvert_exporter": "python",
   "pygments_lexer": "ipython2",
   "version": "2.7.17"
  }
 },
 "nbformat": 4,
 "nbformat_minor": 2
}
