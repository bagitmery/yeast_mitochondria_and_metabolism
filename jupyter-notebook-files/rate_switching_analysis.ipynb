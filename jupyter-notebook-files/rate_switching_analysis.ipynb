{
 "cells": [
  {
   "cell_type": "code",
   "execution_count": 1,
   "metadata": {},
   "outputs": [],
   "source": [
    "# This notebook is written for Python 3"
   ]
  },
  {
   "cell_type": "code",
   "execution_count": 2,
   "metadata": {},
   "outputs": [],
   "source": [
    "import pandas as pd\n",
    "import seaborn as sns\n",
    "import matplotlib.pyplot as plt\n",
    "import numpy as np \n",
    "import scipy.stats as stats\n",
    "import scipy.optimize\n",
    "\n",
    "%matplotlib inline"
   ]
  },
  {
   "cell_type": "code",
   "execution_count": 3,
   "metadata": {},
   "outputs": [],
   "source": [
    "blues = sns.color_palette('Blues', 9)\n",
    "reds = sns.color_palette('Reds', 9)\n",
    "greens = sns.color_palette('Greens', 9)\n",
    "oranges = sns.color_palette('Oranges', 9)\n",
    "grays = sns.color_palette('Greys', 9)\n",
    "purples = sns.color_palette('Purples', 9)\n",
    "prs = sns.color_palette('PRGn', 9)\n",
    "tanteals = sns.color_palette('BrBG', 9)\n",
    "pinkgreens = sns.color_palette('PiYG', 9)[::-1]\n",
    "\n",
    "\n",
    "bw = {'axis.labelcolor': 'white', 'xtick.color': 'white', 'ytick.color': 'white',\n",
    "     'grid.color': 'white', 'axes.edgecolor': 'white', 'axes.facecolor': 'black',\n",
    "     'text.color': 'white', 'axes.labelcolor': 'white', 'figure.facecolor' : 'black',\n",
    "     'xtick.major.size': 5.0, 'xtick.minor.size': 5.0, \n",
    "      'ytick.major.size': 5.0, 'ytick.minor.size': 5.0, 'axes.linewidth': 1.0}\n",
    "bw_tickless = {'axis.labelcolor': 'white', 'grid.color': 'white', \n",
    "               'axes.edgecolor': 'white', 'axes.facecolor': 'black', 'text.color': 'white', \n",
    "               'axes.labelcolor': 'white', 'figure.facecolor' : 'black', 'axes.linewidth': 1.0,\n",
    "              'xtick.color': 'white', 'ytick.color': 'white'}"
   ]
  },
  {
   "cell_type": "markdown",
   "metadata": {},
   "source": [
    "## A function for import of rate-switching data"
   ]
  },
  {
   "cell_type": "code",
   "execution_count": 4,
   "metadata": {},
   "outputs": [],
   "source": [
    "def import_data(filename, stagepos):\n",
    "    # open the file. find the time interval between frames (in min)\n",
    "    # and the time of arrest (in hr)\n",
    "    for s in range(stagepos[0], stagepos[1] + 1):\n",
    "        filename_full = filename + '_s' + str(s) + '.txt'\n",
    "        #print(s)\n",
    "\n",
    "        with open(filename_full, 'r') as openfile:\n",
    "            i_line = 0\n",
    "            for line in openfile:\n",
    "                if i_line == 1:\n",
    "                    #print(line.rstrip())\n",
    "                    timeline = line.rstrip()\n",
    "                    time_index = str.find(timeline, 'min: ')\n",
    "                    time_interval = int(timeline[time_index + 5:])\n",
    "                    #print(str(time_interval))\n",
    "                elif i_line == 2:\n",
    "                    #print(line.rstrip())\n",
    "                    arresttime = line.rstrip()\n",
    "                    arrest_index = str.find(arresttime, 'hr: ')\n",
    "                    arrest_time = int(arresttime[arrest_index + 4:])\n",
    "                    #print(str(arrest_time))\n",
    "                else:\n",
    "                    pass\n",
    "                i_line += 1\n",
    "\n",
    "        # import switching data as csv\n",
    "        df_import = pd.read_csv(filename_full, skiprows = 4, delimiter = '\\t')\n",
    "        # add a column calculating the number of frames pre-withdrawal over which cell was observed\n",
    "        df_import['frames_observed'] = int(((arrest_time*60)/time_interval) + 1) - df_import['BIRTHFRAME']\n",
    "        # convert this to time in min\n",
    "        df_import['time_observed'] = time_interval*df_import['frames_observed']\n",
    "        \n",
    "        if s == stagepos[0]:\n",
    "            df_full = df_import.copy(deep = True)\n",
    "        \n",
    "        else:\n",
    "            df_full = pd.concat([df_full, df_import])\n",
    "\n",
    "    return df_full"
   ]
  },
  {
   "cell_type": "markdown",
   "metadata": {},
   "source": [
    "## Import data by experiment"
   ]
  },
  {
   "cell_type": "code",
   "execution_count": 5,
   "metadata": {},
   "outputs": [],
   "source": [
    "# this one starts at stage position 7 because chamber 1, s1-s6, was something else\n",
    "df_2019_05_24 = import_data('2019_05_24', [7,21])"
   ]
  },
  {
   "cell_type": "code",
   "execution_count": 6,
   "metadata": {},
   "outputs": [
    {
     "data": {
      "text/html": [
       "<div>\n",
       "<style scoped>\n",
       "    .dataframe tbody tr th:only-of-type {\n",
       "        vertical-align: middle;\n",
       "    }\n",
       "\n",
       "    .dataframe tbody tr th {\n",
       "        vertical-align: top;\n",
       "    }\n",
       "\n",
       "    .dataframe thead th {\n",
       "        text-align: right;\n",
       "    }\n",
       "</style>\n",
       "<table border=\"1\" class=\"dataframe\">\n",
       "  <thead>\n",
       "    <tr style=\"text-align: right;\">\n",
       "      <th></th>\n",
       "      <th>BIRTHFRAME</th>\n",
       "      <th>STATE0</th>\n",
       "      <th>STATE1</th>\n",
       "      <th>frames_observed</th>\n",
       "      <th>time_observed</th>\n",
       "    </tr>\n",
       "  </thead>\n",
       "  <tbody>\n",
       "    <tr>\n",
       "      <td>8</td>\n",
       "      <td>16</td>\n",
       "      <td>A</td>\n",
       "      <td>A</td>\n",
       "      <td>9</td>\n",
       "      <td>135</td>\n",
       "    </tr>\n",
       "    <tr>\n",
       "      <td>7</td>\n",
       "      <td>24</td>\n",
       "      <td>A</td>\n",
       "      <td>A</td>\n",
       "      <td>1</td>\n",
       "      <td>15</td>\n",
       "    </tr>\n",
       "    <tr>\n",
       "      <td>14</td>\n",
       "      <td>20</td>\n",
       "      <td>A</td>\n",
       "      <td>A</td>\n",
       "      <td>5</td>\n",
       "      <td>75</td>\n",
       "    </tr>\n",
       "    <tr>\n",
       "      <td>0</td>\n",
       "      <td>2</td>\n",
       "      <td>R</td>\n",
       "      <td>R</td>\n",
       "      <td>23</td>\n",
       "      <td>345</td>\n",
       "    </tr>\n",
       "    <tr>\n",
       "      <td>2</td>\n",
       "      <td>21</td>\n",
       "      <td>R</td>\n",
       "      <td>A</td>\n",
       "      <td>4</td>\n",
       "      <td>60</td>\n",
       "    </tr>\n",
       "  </tbody>\n",
       "</table>\n",
       "</div>"
      ],
      "text/plain": [
       "    BIRTHFRAME STATE0 STATE1  frames_observed  time_observed\n",
       "8           16      A      A                9            135\n",
       "7           24      A      A                1             15\n",
       "14          20      A      A                5             75\n",
       "0            2      R      R               23            345\n",
       "2           21      R      A                4             60"
      ]
     },
     "execution_count": 6,
     "metadata": {},
     "output_type": "execute_result"
    }
   ],
   "source": [
    "df_2019_05_24.head()\n",
    "df_2019_05_24.tail()\n",
    "df_2019_05_24.sample(n = 5)"
   ]
  },
  {
   "cell_type": "code",
   "execution_count": 7,
   "metadata": {},
   "outputs": [],
   "source": [
    "df_2019_06_25 = import_data('2019_06_25', [1, 22])"
   ]
  },
  {
   "cell_type": "code",
   "execution_count": 8,
   "metadata": {},
   "outputs": [
    {
     "data": {
      "text/html": [
       "<div>\n",
       "<style scoped>\n",
       "    .dataframe tbody tr th:only-of-type {\n",
       "        vertical-align: middle;\n",
       "    }\n",
       "\n",
       "    .dataframe tbody tr th {\n",
       "        vertical-align: top;\n",
       "    }\n",
       "\n",
       "    .dataframe thead th {\n",
       "        text-align: right;\n",
       "    }\n",
       "</style>\n",
       "<table border=\"1\" class=\"dataframe\">\n",
       "  <thead>\n",
       "    <tr style=\"text-align: right;\">\n",
       "      <th></th>\n",
       "      <th>BIRTHFRAME</th>\n",
       "      <th>STATE0</th>\n",
       "      <th>STATE1</th>\n",
       "      <th>frames_observed</th>\n",
       "      <th>time_observed</th>\n",
       "    </tr>\n",
       "  </thead>\n",
       "  <tbody>\n",
       "    <tr>\n",
       "      <td>19</td>\n",
       "      <td>9</td>\n",
       "      <td>A</td>\n",
       "      <td>A</td>\n",
       "      <td>16</td>\n",
       "      <td>240</td>\n",
       "    </tr>\n",
       "    <tr>\n",
       "      <td>46</td>\n",
       "      <td>20</td>\n",
       "      <td>A</td>\n",
       "      <td>A</td>\n",
       "      <td>5</td>\n",
       "      <td>75</td>\n",
       "    </tr>\n",
       "    <tr>\n",
       "      <td>2</td>\n",
       "      <td>11</td>\n",
       "      <td>A</td>\n",
       "      <td>A</td>\n",
       "      <td>14</td>\n",
       "      <td>210</td>\n",
       "    </tr>\n",
       "    <tr>\n",
       "      <td>106</td>\n",
       "      <td>16</td>\n",
       "      <td>A</td>\n",
       "      <td>A</td>\n",
       "      <td>9</td>\n",
       "      <td>135</td>\n",
       "    </tr>\n",
       "    <tr>\n",
       "      <td>48</td>\n",
       "      <td>24</td>\n",
       "      <td>A</td>\n",
       "      <td>A</td>\n",
       "      <td>1</td>\n",
       "      <td>15</td>\n",
       "    </tr>\n",
       "  </tbody>\n",
       "</table>\n",
       "</div>"
      ],
      "text/plain": [
       "     BIRTHFRAME STATE0 STATE1  frames_observed  time_observed\n",
       "19            9      A      A               16            240\n",
       "46           20      A      A                5             75\n",
       "2            11      A      A               14            210\n",
       "106          16      A      A                9            135\n",
       "48           24      A      A                1             15"
      ]
     },
     "execution_count": 8,
     "metadata": {},
     "output_type": "execute_result"
    }
   ],
   "source": [
    "df_2019_06_25.head()\n",
    "df_2019_06_25.tail()\n",
    "df_2019_06_25.sample(n = 5)"
   ]
  },
  {
   "cell_type": "code",
   "execution_count": 9,
   "metadata": {},
   "outputs": [],
   "source": [
    "df_2019_07_02 = import_data('2019_07_02', [1, 24])"
   ]
  },
  {
   "cell_type": "code",
   "execution_count": 10,
   "metadata": {},
   "outputs": [
    {
     "data": {
      "text/html": [
       "<div>\n",
       "<style scoped>\n",
       "    .dataframe tbody tr th:only-of-type {\n",
       "        vertical-align: middle;\n",
       "    }\n",
       "\n",
       "    .dataframe tbody tr th {\n",
       "        vertical-align: top;\n",
       "    }\n",
       "\n",
       "    .dataframe thead th {\n",
       "        text-align: right;\n",
       "    }\n",
       "</style>\n",
       "<table border=\"1\" class=\"dataframe\">\n",
       "  <thead>\n",
       "    <tr style=\"text-align: right;\">\n",
       "      <th></th>\n",
       "      <th>BIRTHFRAME</th>\n",
       "      <th>STATE0</th>\n",
       "      <th>STATE1</th>\n",
       "      <th>frames_observed</th>\n",
       "      <th>time_observed</th>\n",
       "    </tr>\n",
       "  </thead>\n",
       "  <tbody>\n",
       "    <tr>\n",
       "      <td>4</td>\n",
       "      <td>24</td>\n",
       "      <td>R</td>\n",
       "      <td>R</td>\n",
       "      <td>1</td>\n",
       "      <td>15</td>\n",
       "    </tr>\n",
       "    <tr>\n",
       "      <td>19</td>\n",
       "      <td>21</td>\n",
       "      <td>A</td>\n",
       "      <td>A</td>\n",
       "      <td>4</td>\n",
       "      <td>60</td>\n",
       "    </tr>\n",
       "    <tr>\n",
       "      <td>25</td>\n",
       "      <td>9</td>\n",
       "      <td>A</td>\n",
       "      <td>A</td>\n",
       "      <td>16</td>\n",
       "      <td>240</td>\n",
       "    </tr>\n",
       "    <tr>\n",
       "      <td>13</td>\n",
       "      <td>18</td>\n",
       "      <td>R</td>\n",
       "      <td>R</td>\n",
       "      <td>7</td>\n",
       "      <td>105</td>\n",
       "    </tr>\n",
       "    <tr>\n",
       "      <td>14</td>\n",
       "      <td>24</td>\n",
       "      <td>A</td>\n",
       "      <td>A</td>\n",
       "      <td>1</td>\n",
       "      <td>15</td>\n",
       "    </tr>\n",
       "  </tbody>\n",
       "</table>\n",
       "</div>"
      ],
      "text/plain": [
       "   BIRTHFRAME STATE0 STATE1 frames_observed time_observed\n",
       "4          24      R      R               1            15\n",
       "19         21      A      A               4            60\n",
       "25          9      A      A              16           240\n",
       "13         18      R      R               7           105\n",
       "14         24      A      A               1            15"
      ]
     },
     "execution_count": 10,
     "metadata": {},
     "output_type": "execute_result"
    }
   ],
   "source": [
    "df_2019_07_02.head()\n",
    "df_2019_07_02.tail()\n",
    "df_2019_07_02.sample(n = 5)"
   ]
  },
  {
   "cell_type": "code",
   "execution_count": 11,
   "metadata": {},
   "outputs": [],
   "source": [
    "df_2019_09_09 = import_data('2019_09_09', [1, 22])"
   ]
  },
  {
   "cell_type": "code",
   "execution_count": 12,
   "metadata": {},
   "outputs": [
    {
     "data": {
      "text/html": [
       "<div>\n",
       "<style scoped>\n",
       "    .dataframe tbody tr th:only-of-type {\n",
       "        vertical-align: middle;\n",
       "    }\n",
       "\n",
       "    .dataframe tbody tr th {\n",
       "        vertical-align: top;\n",
       "    }\n",
       "\n",
       "    .dataframe thead th {\n",
       "        text-align: right;\n",
       "    }\n",
       "</style>\n",
       "<table border=\"1\" class=\"dataframe\">\n",
       "  <thead>\n",
       "    <tr style=\"text-align: right;\">\n",
       "      <th></th>\n",
       "      <th>BIRTHFRAME</th>\n",
       "      <th>STATE0</th>\n",
       "      <th>STATE1</th>\n",
       "      <th>frames_observed</th>\n",
       "      <th>time_observed</th>\n",
       "    </tr>\n",
       "  </thead>\n",
       "  <tbody>\n",
       "    <tr>\n",
       "      <td>5</td>\n",
       "      <td>23</td>\n",
       "      <td>A</td>\n",
       "      <td>A</td>\n",
       "      <td>2</td>\n",
       "      <td>30</td>\n",
       "    </tr>\n",
       "    <tr>\n",
       "      <td>0</td>\n",
       "      <td>1</td>\n",
       "      <td>R</td>\n",
       "      <td>A</td>\n",
       "      <td>24</td>\n",
       "      <td>360</td>\n",
       "    </tr>\n",
       "    <tr>\n",
       "      <td>15</td>\n",
       "      <td>13</td>\n",
       "      <td>R</td>\n",
       "      <td>R</td>\n",
       "      <td>12</td>\n",
       "      <td>180</td>\n",
       "    </tr>\n",
       "    <tr>\n",
       "      <td>3</td>\n",
       "      <td>16</td>\n",
       "      <td>R</td>\n",
       "      <td>R</td>\n",
       "      <td>9</td>\n",
       "      <td>135</td>\n",
       "    </tr>\n",
       "    <tr>\n",
       "      <td>17</td>\n",
       "      <td>24</td>\n",
       "      <td>A</td>\n",
       "      <td>A</td>\n",
       "      <td>1</td>\n",
       "      <td>15</td>\n",
       "    </tr>\n",
       "  </tbody>\n",
       "</table>\n",
       "</div>"
      ],
      "text/plain": [
       "    BIRTHFRAME STATE0 STATE1  frames_observed  time_observed\n",
       "5           23      A      A                2             30\n",
       "0            1      R      A               24            360\n",
       "15          13      R      R               12            180\n",
       "3           16      R      R                9            135\n",
       "17          24      A      A                1             15"
      ]
     },
     "execution_count": 12,
     "metadata": {},
     "output_type": "execute_result"
    }
   ],
   "source": [
    "df_2019_09_09.head()\n",
    "df_2019_09_09.tail()\n",
    "df_2019_09_09.sample(n = 5)"
   ]
  },
  {
   "cell_type": "code",
   "execution_count": 13,
   "metadata": {},
   "outputs": [],
   "source": [
    "df_2019_09_11 = import_data('2019_09_11', [1, 23])"
   ]
  },
  {
   "cell_type": "code",
   "execution_count": 14,
   "metadata": {},
   "outputs": [
    {
     "data": {
      "text/html": [
       "<div>\n",
       "<style scoped>\n",
       "    .dataframe tbody tr th:only-of-type {\n",
       "        vertical-align: middle;\n",
       "    }\n",
       "\n",
       "    .dataframe tbody tr th {\n",
       "        vertical-align: top;\n",
       "    }\n",
       "\n",
       "    .dataframe thead th {\n",
       "        text-align: right;\n",
       "    }\n",
       "</style>\n",
       "<table border=\"1\" class=\"dataframe\">\n",
       "  <thead>\n",
       "    <tr style=\"text-align: right;\">\n",
       "      <th></th>\n",
       "      <th>BIRTHFRAME</th>\n",
       "      <th>STATE0</th>\n",
       "      <th>STATE1</th>\n",
       "      <th>frames_observed</th>\n",
       "      <th>time_observed</th>\n",
       "    </tr>\n",
       "  </thead>\n",
       "  <tbody>\n",
       "    <tr>\n",
       "      <td>17</td>\n",
       "      <td>19</td>\n",
       "      <td>R</td>\n",
       "      <td>R</td>\n",
       "      <td>6</td>\n",
       "      <td>90</td>\n",
       "    </tr>\n",
       "    <tr>\n",
       "      <td>6</td>\n",
       "      <td>23</td>\n",
       "      <td>A</td>\n",
       "      <td>A</td>\n",
       "      <td>2</td>\n",
       "      <td>30</td>\n",
       "    </tr>\n",
       "    <tr>\n",
       "      <td>0</td>\n",
       "      <td>1</td>\n",
       "      <td>R</td>\n",
       "      <td>A</td>\n",
       "      <td>24</td>\n",
       "      <td>360</td>\n",
       "    </tr>\n",
       "    <tr>\n",
       "      <td>5</td>\n",
       "      <td>1</td>\n",
       "      <td>R</td>\n",
       "      <td>A</td>\n",
       "      <td>24</td>\n",
       "      <td>360</td>\n",
       "    </tr>\n",
       "    <tr>\n",
       "      <td>3</td>\n",
       "      <td>24</td>\n",
       "      <td>R</td>\n",
       "      <td>R</td>\n",
       "      <td>1</td>\n",
       "      <td>15</td>\n",
       "    </tr>\n",
       "  </tbody>\n",
       "</table>\n",
       "</div>"
      ],
      "text/plain": [
       "    BIRTHFRAME STATE0 STATE1  frames_observed  time_observed\n",
       "17          19      R      R                6             90\n",
       "6           23      A      A                2             30\n",
       "0            1      R      A               24            360\n",
       "5            1      R      A               24            360\n",
       "3           24      R      R                1             15"
      ]
     },
     "execution_count": 14,
     "metadata": {},
     "output_type": "execute_result"
    }
   ],
   "source": [
    "df_2019_09_11.head()\n",
    "df_2019_09_11.tail()\n",
    "df_2019_09_11.sample(n = 5)"
   ]
  },
  {
   "cell_type": "code",
   "execution_count": 15,
   "metadata": {},
   "outputs": [],
   "source": [
    "df_concat = pd.concat([df_2019_05_24, df_2019_06_25, df_2019_07_02, df_2019_09_09, df_2019_09_11])"
   ]
  },
  {
   "cell_type": "code",
   "execution_count": 16,
   "metadata": {},
   "outputs": [
    {
     "name": "stdout",
     "output_type": "stream",
     "text": [
      "2702\n"
     ]
    },
    {
     "data": {
      "text/html": [
       "<div>\n",
       "<style scoped>\n",
       "    .dataframe tbody tr th:only-of-type {\n",
       "        vertical-align: middle;\n",
       "    }\n",
       "\n",
       "    .dataframe tbody tr th {\n",
       "        vertical-align: top;\n",
       "    }\n",
       "\n",
       "    .dataframe thead th {\n",
       "        text-align: right;\n",
       "    }\n",
       "</style>\n",
       "<table border=\"1\" class=\"dataframe\">\n",
       "  <thead>\n",
       "    <tr style=\"text-align: right;\">\n",
       "      <th></th>\n",
       "      <th>BIRTHFRAME</th>\n",
       "      <th>STATE0</th>\n",
       "      <th>STATE1</th>\n",
       "      <th>frames_observed</th>\n",
       "      <th>time_observed</th>\n",
       "    </tr>\n",
       "  </thead>\n",
       "  <tbody>\n",
       "    <tr>\n",
       "      <td>41</td>\n",
       "      <td>18</td>\n",
       "      <td>A</td>\n",
       "      <td>A</td>\n",
       "      <td>7</td>\n",
       "      <td>105</td>\n",
       "    </tr>\n",
       "    <tr>\n",
       "      <td>59</td>\n",
       "      <td>10</td>\n",
       "      <td>A</td>\n",
       "      <td>A</td>\n",
       "      <td>15</td>\n",
       "      <td>225</td>\n",
       "    </tr>\n",
       "    <tr>\n",
       "      <td>5</td>\n",
       "      <td>11</td>\n",
       "      <td>R</td>\n",
       "      <td>A</td>\n",
       "      <td>14</td>\n",
       "      <td>210</td>\n",
       "    </tr>\n",
       "    <tr>\n",
       "      <td>3</td>\n",
       "      <td>21</td>\n",
       "      <td>R</td>\n",
       "      <td>R</td>\n",
       "      <td>4</td>\n",
       "      <td>60</td>\n",
       "    </tr>\n",
       "    <tr>\n",
       "      <td>4</td>\n",
       "      <td>10</td>\n",
       "      <td>A</td>\n",
       "      <td>A</td>\n",
       "      <td>15</td>\n",
       "      <td>225</td>\n",
       "    </tr>\n",
       "    <tr>\n",
       "      <td>89</td>\n",
       "      <td>14</td>\n",
       "      <td>A</td>\n",
       "      <td>A</td>\n",
       "      <td>11</td>\n",
       "      <td>165</td>\n",
       "    </tr>\n",
       "    <tr>\n",
       "      <td>4</td>\n",
       "      <td>14</td>\n",
       "      <td>R</td>\n",
       "      <td>R</td>\n",
       "      <td>11</td>\n",
       "      <td>165</td>\n",
       "    </tr>\n",
       "    <tr>\n",
       "      <td>36</td>\n",
       "      <td>21</td>\n",
       "      <td>A</td>\n",
       "      <td>A</td>\n",
       "      <td>4</td>\n",
       "      <td>60</td>\n",
       "    </tr>\n",
       "    <tr>\n",
       "      <td>22</td>\n",
       "      <td>15</td>\n",
       "      <td>R</td>\n",
       "      <td>R</td>\n",
       "      <td>10</td>\n",
       "      <td>150</td>\n",
       "    </tr>\n",
       "    <tr>\n",
       "      <td>3</td>\n",
       "      <td>1</td>\n",
       "      <td>A</td>\n",
       "      <td>A</td>\n",
       "      <td>24</td>\n",
       "      <td>360</td>\n",
       "    </tr>\n",
       "  </tbody>\n",
       "</table>\n",
       "</div>"
      ],
      "text/plain": [
       "   BIRTHFRAME STATE0 STATE1 frames_observed time_observed\n",
       "41         18      A      A               7           105\n",
       "59         10      A      A              15           225\n",
       "5          11      R      A              14           210\n",
       "3          21      R      R               4            60\n",
       "4          10      A      A              15           225\n",
       "89         14      A      A              11           165\n",
       "4          14      R      R              11           165\n",
       "36         21      A      A               4            60\n",
       "22         15      R      R              10           150\n",
       "3           1      A      A              24           360"
      ]
     },
     "execution_count": 16,
     "metadata": {},
     "output_type": "execute_result"
    }
   ],
   "source": [
    "print(len(df_concat))\n",
    "df_concat.sample(n = 10)"
   ]
  },
  {
   "cell_type": "markdown",
   "metadata": {},
   "source": [
    "### Create separate data frames for initial arresters/recoverers; score whether there was a state switch"
   ]
  },
  {
   "cell_type": "code",
   "execution_count": 17,
   "metadata": {},
   "outputs": [],
   "source": [
    "df_ori_arresters = df_concat[df_concat['STATE0'] == 'A']"
   ]
  },
  {
   "cell_type": "code",
   "execution_count": 18,
   "metadata": {},
   "outputs": [
    {
     "name": "stdout",
     "output_type": "stream",
     "text": [
      "2046\n"
     ]
    },
    {
     "data": {
      "text/html": [
       "<div>\n",
       "<style scoped>\n",
       "    .dataframe tbody tr th:only-of-type {\n",
       "        vertical-align: middle;\n",
       "    }\n",
       "\n",
       "    .dataframe tbody tr th {\n",
       "        vertical-align: top;\n",
       "    }\n",
       "\n",
       "    .dataframe thead th {\n",
       "        text-align: right;\n",
       "    }\n",
       "</style>\n",
       "<table border=\"1\" class=\"dataframe\">\n",
       "  <thead>\n",
       "    <tr style=\"text-align: right;\">\n",
       "      <th></th>\n",
       "      <th>BIRTHFRAME</th>\n",
       "      <th>STATE0</th>\n",
       "      <th>STATE1</th>\n",
       "      <th>frames_observed</th>\n",
       "      <th>time_observed</th>\n",
       "    </tr>\n",
       "  </thead>\n",
       "  <tbody>\n",
       "    <tr>\n",
       "      <td>5</td>\n",
       "      <td>24</td>\n",
       "      <td>A</td>\n",
       "      <td>A</td>\n",
       "      <td>1</td>\n",
       "      <td>15</td>\n",
       "    </tr>\n",
       "    <tr>\n",
       "      <td>6</td>\n",
       "      <td>11</td>\n",
       "      <td>A</td>\n",
       "      <td>A</td>\n",
       "      <td>14</td>\n",
       "      <td>210</td>\n",
       "    </tr>\n",
       "    <tr>\n",
       "      <td>28</td>\n",
       "      <td>11</td>\n",
       "      <td>A</td>\n",
       "      <td>A</td>\n",
       "      <td>14</td>\n",
       "      <td>210</td>\n",
       "    </tr>\n",
       "    <tr>\n",
       "      <td>51</td>\n",
       "      <td>11</td>\n",
       "      <td>A</td>\n",
       "      <td>A</td>\n",
       "      <td>14</td>\n",
       "      <td>210</td>\n",
       "    </tr>\n",
       "    <tr>\n",
       "      <td>42</td>\n",
       "      <td>17</td>\n",
       "      <td>A</td>\n",
       "      <td>A</td>\n",
       "      <td>8</td>\n",
       "      <td>120</td>\n",
       "    </tr>\n",
       "  </tbody>\n",
       "</table>\n",
       "</div>"
      ],
      "text/plain": [
       "   BIRTHFRAME STATE0 STATE1 frames_observed time_observed\n",
       "5          24      A      A               1            15\n",
       "6          11      A      A              14           210\n",
       "28         11      A      A              14           210\n",
       "51         11      A      A              14           210\n",
       "42         17      A      A               8           120"
      ]
     },
     "execution_count": 18,
     "metadata": {},
     "output_type": "execute_result"
    }
   ],
   "source": [
    "print(len(df_ori_arresters))\n",
    "df_ori_arresters.sample(n = 5)"
   ]
  },
  {
   "cell_type": "code",
   "execution_count": 19,
   "metadata": {},
   "outputs": [],
   "source": [
    "df_ori_recoverers = df_concat[df_concat['STATE0'] == 'R']"
   ]
  },
  {
   "cell_type": "code",
   "execution_count": 20,
   "metadata": {},
   "outputs": [
    {
     "name": "stdout",
     "output_type": "stream",
     "text": [
      "656\n"
     ]
    },
    {
     "data": {
      "text/html": [
       "<div>\n",
       "<style scoped>\n",
       "    .dataframe tbody tr th:only-of-type {\n",
       "        vertical-align: middle;\n",
       "    }\n",
       "\n",
       "    .dataframe tbody tr th {\n",
       "        vertical-align: top;\n",
       "    }\n",
       "\n",
       "    .dataframe thead th {\n",
       "        text-align: right;\n",
       "    }\n",
       "</style>\n",
       "<table border=\"1\" class=\"dataframe\">\n",
       "  <thead>\n",
       "    <tr style=\"text-align: right;\">\n",
       "      <th></th>\n",
       "      <th>BIRTHFRAME</th>\n",
       "      <th>STATE0</th>\n",
       "      <th>STATE1</th>\n",
       "      <th>frames_observed</th>\n",
       "      <th>time_observed</th>\n",
       "    </tr>\n",
       "  </thead>\n",
       "  <tbody>\n",
       "    <tr>\n",
       "      <td>4</td>\n",
       "      <td>5</td>\n",
       "      <td>R</td>\n",
       "      <td>R</td>\n",
       "      <td>20</td>\n",
       "      <td>300</td>\n",
       "    </tr>\n",
       "    <tr>\n",
       "      <td>6</td>\n",
       "      <td>17</td>\n",
       "      <td>R</td>\n",
       "      <td>R</td>\n",
       "      <td>8</td>\n",
       "      <td>120</td>\n",
       "    </tr>\n",
       "    <tr>\n",
       "      <td>1</td>\n",
       "      <td>21</td>\n",
       "      <td>R</td>\n",
       "      <td>R</td>\n",
       "      <td>4</td>\n",
       "      <td>60</td>\n",
       "    </tr>\n",
       "    <tr>\n",
       "      <td>9</td>\n",
       "      <td>1</td>\n",
       "      <td>R</td>\n",
       "      <td>A</td>\n",
       "      <td>24</td>\n",
       "      <td>360</td>\n",
       "    </tr>\n",
       "    <tr>\n",
       "      <td>0</td>\n",
       "      <td>2</td>\n",
       "      <td>R</td>\n",
       "      <td>R</td>\n",
       "      <td>23</td>\n",
       "      <td>345</td>\n",
       "    </tr>\n",
       "  </tbody>\n",
       "</table>\n",
       "</div>"
      ],
      "text/plain": [
       "  BIRTHFRAME STATE0 STATE1 frames_observed time_observed\n",
       "4          5      R      R              20           300\n",
       "6         17      R      R               8           120\n",
       "1         21      R      R               4            60\n",
       "9          1      R      A              24           360\n",
       "0          2      R      R              23           345"
      ]
     },
     "execution_count": 20,
     "metadata": {},
     "output_type": "execute_result"
    }
   ],
   "source": [
    "print(len(df_ori_recoverers))\n",
    "df_ori_recoverers.sample(n = 5)"
   ]
  },
  {
   "cell_type": "code",
   "execution_count": 21,
   "metadata": {},
   "outputs": [
    {
     "name": "stderr",
     "output_type": "stream",
     "text": [
      "/Users/laurabagamery/opt/anaconda3/lib/python3.7/site-packages/ipykernel_launcher.py:1: SettingWithCopyWarning: \n",
      "A value is trying to be set on a copy of a slice from a DataFrame.\n",
      "Try using .loc[row_indexer,col_indexer] = value instead\n",
      "\n",
      "See the caveats in the documentation: http://pandas.pydata.org/pandas-docs/stable/user_guide/indexing.html#returning-a-view-versus-a-copy\n",
      "  \"\"\"Entry point for launching an IPython kernel.\n"
     ]
    }
   ],
   "source": [
    "df_ori_arresters['switch'] = np.where(df_ori_arresters['STATE1'] == 'R', 1, 0)"
   ]
  },
  {
   "cell_type": "code",
   "execution_count": 22,
   "metadata": {},
   "outputs": [
    {
     "data": {
      "text/html": [
       "<div>\n",
       "<style scoped>\n",
       "    .dataframe tbody tr th:only-of-type {\n",
       "        vertical-align: middle;\n",
       "    }\n",
       "\n",
       "    .dataframe tbody tr th {\n",
       "        vertical-align: top;\n",
       "    }\n",
       "\n",
       "    .dataframe thead th {\n",
       "        text-align: right;\n",
       "    }\n",
       "</style>\n",
       "<table border=\"1\" class=\"dataframe\">\n",
       "  <thead>\n",
       "    <tr style=\"text-align: right;\">\n",
       "      <th></th>\n",
       "      <th>BIRTHFRAME</th>\n",
       "      <th>STATE0</th>\n",
       "      <th>STATE1</th>\n",
       "      <th>frames_observed</th>\n",
       "      <th>time_observed</th>\n",
       "      <th>switch</th>\n",
       "    </tr>\n",
       "  </thead>\n",
       "  <tbody>\n",
       "    <tr>\n",
       "      <td>20</td>\n",
       "      <td>23</td>\n",
       "      <td>A</td>\n",
       "      <td>A</td>\n",
       "      <td>2</td>\n",
       "      <td>30</td>\n",
       "      <td>0</td>\n",
       "    </tr>\n",
       "    <tr>\n",
       "      <td>1</td>\n",
       "      <td>19</td>\n",
       "      <td>A</td>\n",
       "      <td>A</td>\n",
       "      <td>6</td>\n",
       "      <td>90</td>\n",
       "      <td>0</td>\n",
       "    </tr>\n",
       "    <tr>\n",
       "      <td>10</td>\n",
       "      <td>14</td>\n",
       "      <td>A</td>\n",
       "      <td>A</td>\n",
       "      <td>11</td>\n",
       "      <td>165</td>\n",
       "      <td>0</td>\n",
       "    </tr>\n",
       "    <tr>\n",
       "      <td>27</td>\n",
       "      <td>22</td>\n",
       "      <td>A</td>\n",
       "      <td>A</td>\n",
       "      <td>3</td>\n",
       "      <td>45</td>\n",
       "      <td>0</td>\n",
       "    </tr>\n",
       "    <tr>\n",
       "      <td>33</td>\n",
       "      <td>22</td>\n",
       "      <td>A</td>\n",
       "      <td>A</td>\n",
       "      <td>3</td>\n",
       "      <td>45</td>\n",
       "      <td>0</td>\n",
       "    </tr>\n",
       "    <tr>\n",
       "      <td>65</td>\n",
       "      <td>24</td>\n",
       "      <td>A</td>\n",
       "      <td>A</td>\n",
       "      <td>1</td>\n",
       "      <td>15</td>\n",
       "      <td>0</td>\n",
       "    </tr>\n",
       "    <tr>\n",
       "      <td>5</td>\n",
       "      <td>13</td>\n",
       "      <td>A</td>\n",
       "      <td>A</td>\n",
       "      <td>12</td>\n",
       "      <td>180</td>\n",
       "      <td>0</td>\n",
       "    </tr>\n",
       "    <tr>\n",
       "      <td>49</td>\n",
       "      <td>12</td>\n",
       "      <td>A</td>\n",
       "      <td>A</td>\n",
       "      <td>13</td>\n",
       "      <td>195</td>\n",
       "      <td>0</td>\n",
       "    </tr>\n",
       "    <tr>\n",
       "      <td>52</td>\n",
       "      <td>19</td>\n",
       "      <td>A</td>\n",
       "      <td>A</td>\n",
       "      <td>6</td>\n",
       "      <td>90</td>\n",
       "      <td>0</td>\n",
       "    </tr>\n",
       "    <tr>\n",
       "      <td>3</td>\n",
       "      <td>1</td>\n",
       "      <td>A</td>\n",
       "      <td>A</td>\n",
       "      <td>24</td>\n",
       "      <td>360</td>\n",
       "      <td>0</td>\n",
       "    </tr>\n",
       "  </tbody>\n",
       "</table>\n",
       "</div>"
      ],
      "text/plain": [
       "   BIRTHFRAME STATE0 STATE1 frames_observed time_observed  switch\n",
       "20         23      A      A               2            30       0\n",
       "1          19      A      A               6            90       0\n",
       "10         14      A      A              11           165       0\n",
       "27         22      A      A               3            45       0\n",
       "33         22      A      A               3            45       0\n",
       "65         24      A      A               1            15       0\n",
       "5          13      A      A              12           180       0\n",
       "49         12      A      A              13           195       0\n",
       "52         19      A      A               6            90       0\n",
       "3           1      A      A              24           360       0"
      ]
     },
     "execution_count": 22,
     "metadata": {},
     "output_type": "execute_result"
    }
   ],
   "source": [
    "df_ori_arresters.sample(n = 10)"
   ]
  },
  {
   "cell_type": "code",
   "execution_count": 23,
   "metadata": {},
   "outputs": [
    {
     "name": "stderr",
     "output_type": "stream",
     "text": [
      "/Users/laurabagamery/opt/anaconda3/lib/python3.7/site-packages/ipykernel_launcher.py:1: SettingWithCopyWarning: \n",
      "A value is trying to be set on a copy of a slice from a DataFrame.\n",
      "Try using .loc[row_indexer,col_indexer] = value instead\n",
      "\n",
      "See the caveats in the documentation: http://pandas.pydata.org/pandas-docs/stable/user_guide/indexing.html#returning-a-view-versus-a-copy\n",
      "  \"\"\"Entry point for launching an IPython kernel.\n"
     ]
    }
   ],
   "source": [
    "df_ori_recoverers['switch'] = np.where(df_ori_recoverers['STATE1'] == 'A', 1, 0)"
   ]
  },
  {
   "cell_type": "code",
   "execution_count": 24,
   "metadata": {},
   "outputs": [
    {
     "data": {
      "text/html": [
       "<div>\n",
       "<style scoped>\n",
       "    .dataframe tbody tr th:only-of-type {\n",
       "        vertical-align: middle;\n",
       "    }\n",
       "\n",
       "    .dataframe tbody tr th {\n",
       "        vertical-align: top;\n",
       "    }\n",
       "\n",
       "    .dataframe thead th {\n",
       "        text-align: right;\n",
       "    }\n",
       "</style>\n",
       "<table border=\"1\" class=\"dataframe\">\n",
       "  <thead>\n",
       "    <tr style=\"text-align: right;\">\n",
       "      <th></th>\n",
       "      <th>BIRTHFRAME</th>\n",
       "      <th>STATE0</th>\n",
       "      <th>STATE1</th>\n",
       "      <th>frames_observed</th>\n",
       "      <th>time_observed</th>\n",
       "      <th>switch</th>\n",
       "    </tr>\n",
       "  </thead>\n",
       "  <tbody>\n",
       "    <tr>\n",
       "      <td>4</td>\n",
       "      <td>1</td>\n",
       "      <td>R</td>\n",
       "      <td>A</td>\n",
       "      <td>24</td>\n",
       "      <td>360</td>\n",
       "      <td>1</td>\n",
       "    </tr>\n",
       "    <tr>\n",
       "      <td>10</td>\n",
       "      <td>21</td>\n",
       "      <td>R</td>\n",
       "      <td>R</td>\n",
       "      <td>4</td>\n",
       "      <td>60</td>\n",
       "      <td>0</td>\n",
       "    </tr>\n",
       "    <tr>\n",
       "      <td>8</td>\n",
       "      <td>4</td>\n",
       "      <td>R</td>\n",
       "      <td>R</td>\n",
       "      <td>21</td>\n",
       "      <td>315</td>\n",
       "      <td>0</td>\n",
       "    </tr>\n",
       "    <tr>\n",
       "      <td>3</td>\n",
       "      <td>7</td>\n",
       "      <td>R</td>\n",
       "      <td>R</td>\n",
       "      <td>18</td>\n",
       "      <td>270</td>\n",
       "      <td>0</td>\n",
       "    </tr>\n",
       "    <tr>\n",
       "      <td>5</td>\n",
       "      <td>20</td>\n",
       "      <td>R</td>\n",
       "      <td>R</td>\n",
       "      <td>5</td>\n",
       "      <td>75</td>\n",
       "      <td>0</td>\n",
       "    </tr>\n",
       "    <tr>\n",
       "      <td>3</td>\n",
       "      <td>17</td>\n",
       "      <td>R</td>\n",
       "      <td>R</td>\n",
       "      <td>8</td>\n",
       "      <td>120</td>\n",
       "      <td>0</td>\n",
       "    </tr>\n",
       "    <tr>\n",
       "      <td>13</td>\n",
       "      <td>5</td>\n",
       "      <td>R</td>\n",
       "      <td>R</td>\n",
       "      <td>20</td>\n",
       "      <td>300</td>\n",
       "      <td>0</td>\n",
       "    </tr>\n",
       "    <tr>\n",
       "      <td>5</td>\n",
       "      <td>17</td>\n",
       "      <td>R</td>\n",
       "      <td>A</td>\n",
       "      <td>8</td>\n",
       "      <td>120</td>\n",
       "      <td>1</td>\n",
       "    </tr>\n",
       "    <tr>\n",
       "      <td>20</td>\n",
       "      <td>1</td>\n",
       "      <td>R</td>\n",
       "      <td>A</td>\n",
       "      <td>24</td>\n",
       "      <td>360</td>\n",
       "      <td>1</td>\n",
       "    </tr>\n",
       "    <tr>\n",
       "      <td>10</td>\n",
       "      <td>20</td>\n",
       "      <td>R</td>\n",
       "      <td>R</td>\n",
       "      <td>5</td>\n",
       "      <td>75</td>\n",
       "      <td>0</td>\n",
       "    </tr>\n",
       "  </tbody>\n",
       "</table>\n",
       "</div>"
      ],
      "text/plain": [
       "   BIRTHFRAME STATE0 STATE1 frames_observed time_observed  switch\n",
       "4           1      R      A              24           360       1\n",
       "10         21      R      R               4            60       0\n",
       "8           4      R      R              21           315       0\n",
       "3           7      R      R              18           270       0\n",
       "5          20      R      R               5            75       0\n",
       "3          17      R      R               8           120       0\n",
       "13          5      R      R              20           300       0\n",
       "5          17      R      A               8           120       1\n",
       "20          1      R      A              24           360       1\n",
       "10         20      R      R               5            75       0"
      ]
     },
     "execution_count": 24,
     "metadata": {},
     "output_type": "execute_result"
    }
   ],
   "source": [
    "df_ori_recoverers.sample(n = 10)"
   ]
  },
  {
   "cell_type": "code",
   "execution_count": 25,
   "metadata": {},
   "outputs": [],
   "source": [
    "# Let us assume that there are negligible events > 1; \n",
    "# e.g., the number of switches for any one cell during this interval is either 0 or 1\n",
    "# so for each cell, we have a time of observation and whether it switched or not\n",
    "# we also have time bins of size of frame rate: 15 min\n",
    "# for each bin, we have the probability of switch or not in that time frame based on all cells' behavior\n",
    "# then fit to a poisson"
   ]
  },
  {
   "cell_type": "markdown",
   "metadata": {},
   "source": [
    "## Rate-switching: recoverers > arresters"
   ]
  },
  {
   "cell_type": "code",
   "execution_count": 26,
   "metadata": {},
   "outputs": [],
   "source": [
    "recoverer_means = df_ori_recoverers.groupby('time_observed').mean()\n",
    "# note that this mean is the probability of switching, or 1 - p(0)"
   ]
  },
  {
   "cell_type": "code",
   "execution_count": 27,
   "metadata": {},
   "outputs": [],
   "source": [
    "# the observation time windows, in 15 min bin (frequency at which images were collected)\n",
    "times = np.arange(15, 360 + 15, 15)"
   ]
  },
  {
   "cell_type": "code",
   "execution_count": 28,
   "metadata": {},
   "outputs": [
    {
     "data": {
      "image/png": "[encoded data removed]",
      "text/plain": [
       "<Figure size 432x288 with 1 Axes>"
      ]
     },
     "metadata": {},
     "output_type": "display_data"
    }
   ],
   "source": [
    "sns.set_style('ticks')\n",
    "sns.set_context('notebook')\n",
    "\n",
    "f, ax = plt.subplots()\n",
    "plt.plot(times, [1-recoverer_means.loc[x]['switch'] for x in times], marker = '.', color = 'black')\n",
    "\n",
    "ax.set_xlim(0, 360)\n",
    "ax.set_ylim(0, 1)\n",
    "\n",
    "ax.set_title('Recoverers: state retention')\n",
    "ax.set_xlabel('Observation time (min)')\n",
    "ax.set_ylabel('Proportion of cells NOT switching')\n",
    "\n",
    "sns.despine()"
   ]
  },
  {
   "cell_type": "code",
   "execution_count": 29,
   "metadata": {},
   "outputs": [],
   "source": [
    "def poisson_k0_with_time(t, r):\n",
    "    return np.exp(-r*t)"
   ]
  },
  {
   "cell_type": "code",
   "execution_count": 30,
   "metadata": {},
   "outputs": [],
   "source": [
    "# fit to the k=0 case of a poisson\n",
    "[r_recoverers, pcov_recoverers] = scipy.optimize.curve_fit(poisson_k0_with_time, times, \n",
    "                                                           [1-recoverer_means.loc[x]['switch'] for x in times], p0 = 0.2)"
   ]
  },
  {
   "cell_type": "code",
   "execution_count": 31,
   "metadata": {},
   "outputs": [
    {
     "data": {
      "text/plain": [
       "array([0.00299904])"
      ]
     },
     "execution_count": 31,
     "metadata": {},
     "output_type": "execute_result"
    }
   ],
   "source": [
    "r_recoverers\n",
    "# in units of minutes-1"
   ]
  },
  {
   "cell_type": "code",
   "execution_count": 32,
   "metadata": {},
   "outputs": [
    {
     "data": {
      "text/plain": [
       "array([0.1799423])"
      ]
     },
     "execution_count": 32,
     "metadata": {},
     "output_type": "execute_result"
    }
   ],
   "source": [
    "# convert to hr-1\n",
    "r_recoverers*60"
   ]
  },
  {
   "cell_type": "code",
   "execution_count": 33,
   "metadata": {},
   "outputs": [
    {
     "data": {
      "image/png": "[encoded data removed]",
      "text/plain": [
       "<Figure size 432x288 with 1 Axes>"
      ]
     },
     "metadata": {},
     "output_type": "display_data"
    }
   ],
   "source": [
    "sns.set_style('ticks')\n",
    "sns.set_context('notebook')\n",
    "\n",
    "f, ax = plt.subplots()\n",
    "plt.scatter(times, [1-recoverer_means.loc[x]['switch'] for x in times], marker = '.', color = 'black')\n",
    "plt.plot(times, poisson_k0_with_time(times, r_recoverers), color = reds[5])\n",
    "\n",
    "ax.set_xlim(0, 360)\n",
    "ax.set_ylim(0, 1)\n",
    "\n",
    "ax.set_title('Recoverers: state retention')\n",
    "ax.set_xlabel('Observation time (min)')\n",
    "ax.set_ylabel('Proportion of cells NOT switching')\n",
    "\n",
    "sns.despine()"
   ]
  },
  {
   "cell_type": "code",
   "execution_count": 34,
   "metadata": {},
   "outputs": [
    {
     "name": "stdout",
     "output_type": "stream",
     "text": [
      "r_rec = 0.17994230041911954 +/- 0.01616361977744488 hr-1\n"
     ]
    }
   ],
   "source": [
    "# switching rate, recoverers > arresters:\n",
    "print('r_rec = ' + str(float(r_recoverers*60)) + ' +/- ' \n",
    "      + str(float((pcov_recoverers**0.5)*60)) + str(' hr-1'))"
   ]
  },
  {
   "cell_type": "markdown",
   "metadata": {},
   "source": [
    "## Rate-switching: arrresters > recoverers"
   ]
  },
  {
   "cell_type": "code",
   "execution_count": 35,
   "metadata": {},
   "outputs": [],
   "source": [
    "arrester_means = df_ori_arresters.groupby('time_observed').mean()"
   ]
  },
  {
   "cell_type": "code",
   "execution_count": 36,
   "metadata": {},
   "outputs": [
    {
     "data": {
      "image/png": "[encoded data removed]",
      "text/plain": [
       "<Figure size 432x288 with 1 Axes>"
      ]
     },
     "metadata": {},
     "output_type": "display_data"
    }
   ],
   "source": [
    "sns.set_style('ticks')\n",
    "sns.set_context('notebook')\n",
    "\n",
    "f, ax = plt.subplots()\n",
    "plt.plot(times, [1-arrester_means.loc[x]['switch'] for x in times], marker = '.', color = 'black')\n",
    "\n",
    "ax.set_xlim(0, 375)\n",
    "ax.set_ylim(0, 1.5)\n",
    "\n",
    "ax.set_title('Arresters: state retention')\n",
    "ax.set_xlabel('Observation time (min)')\n",
    "ax.set_ylabel('Proportion of cells NOT switching')\n",
    "\n",
    "sns.despine()"
   ]
  },
  {
   "cell_type": "markdown",
   "metadata": {},
   "source": [
    "### Hm. This rate goes _up_ after two hours.\n",
    "#### The overall rate is clearly very small. So it's likely being dominated by a relatively high probability of switching back at higher observation times\n",
    "#### Solution: only analyze the probability of switching over a smaller time frame-- ~<2 hr\n",
    "#### Values consistently decrease until the sixth time point; use these first six time points: 90 min observation windows or less"
   ]
  },
  {
   "cell_type": "code",
   "execution_count": 37,
   "metadata": {},
   "outputs": [],
   "source": [
    "times_sub = times[:6]"
   ]
  },
  {
   "cell_type": "code",
   "execution_count": 38,
   "metadata": {},
   "outputs": [
    {
     "name": "stdout",
     "output_type": "stream",
     "text": [
      "r_arresters-to-recoverers: [0.07996283]\n"
     ]
    }
   ],
   "source": [
    "[r_arresters, pcov_arresters] = scipy.optimize.curve_fit(poisson_k0_with_time, \n",
    "                                                         times_sub, [1-arrester_means.loc[x]['switch'] for x in times_sub],\n",
    "                                                         p0 = 0.01)\n",
    "print('r_arresters-to-recoverers: ' + str(r_arresters*60))"
   ]
  },
  {
   "cell_type": "code",
   "execution_count": 39,
   "metadata": {},
   "outputs": [
    {
     "name": "stdout",
     "output_type": "stream",
     "text": [
      "r_arr = 0.0799628321099925 +/- 0.019152343124212275 hr-1\n"
     ]
    }
   ],
   "source": [
    "# switching rate, arresters > recoverers:\n",
    "print('r_arr = ' + str(float(r_arresters*60)) + ' +/- ' \n",
    "      + str(float((pcov_arresters**0.5)*60)) + str(' hr-1'))"
   ]
  },
  {
   "cell_type": "markdown",
   "metadata": {},
   "source": [
    "## r-squared of fits"
   ]
  },
  {
   "cell_type": "code",
   "execution_count": 40,
   "metadata": {},
   "outputs": [
    {
     "data": {
      "text/plain": [
       "0.7668004631154843"
      ]
     },
     "execution_count": 40,
     "metadata": {},
     "output_type": "execute_result"
    }
   ],
   "source": [
    "residuals_recoverers = [(1-recoverer_means.loc[x]['switch']) - poisson_k0_with_time(x, r_recoverers) for x in times]\n",
    "ss_res_recoverers = np.sum([x**2 for x in residuals_recoverers])\n",
    "ss_tot_recoverers = np.sum([((1-recoverer_means.loc[x]['switch']) - (1-recoverer_means.mean()['switch']))**2 for x in times])\n",
    "r2_recoverers = 1 - (ss_res_recoverers/ss_tot_recoverers)\n",
    "r2_recoverers"
   ]
  },
  {
   "cell_type": "code",
   "execution_count": 41,
   "metadata": {},
   "outputs": [
    {
     "data": {
      "text/plain": [
       "0.7016988128040846"
      ]
     },
     "execution_count": 41,
     "metadata": {},
     "output_type": "execute_result"
    }
   ],
   "source": [
    "residuals_arresters = [(1-arrester_means.loc[x]['switch']) - poisson_k0_with_time(x, r_arresters) for x in times_sub]\n",
    "ss_res_arresters = np.sum([x**2 for x in residuals_arresters])\n",
    "ss_tot_arresters = np.sum([((1-arrester_means.loc[x]['switch']) - (1-arrester_means.mean()['switch']))**2 for x in times_sub])\n",
    "r2_arresters = 1 - (ss_res_arresters / ss_tot_arresters)\n",
    "r2_arresters"
   ]
  }
 ],
 "metadata": {
  "kernelspec": {
   "display_name": "Python 3",
   "language": "python",
   "name": "python3"
  },
  "language_info": {
   "codemirror_mode": {
    "name": "ipython",
    "version": 3
   },
   "file_extension": ".py",
   "mimetype": "text/x-python",
   "name": "python",
   "nbconvert_exporter": "python",
   "pygments_lexer": "ipython3",
   "version": "3.7.4"
  }
 },
 "nbformat": 4,
 "nbformat_minor": 2
}
