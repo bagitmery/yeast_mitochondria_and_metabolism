{
 "cells": [
  {
   "cell_type": "code",
   "execution_count": 59,
   "metadata": {},
   "outputs": [],
   "source": [
    "# This notebook was written for Python 3\n",
    "import pandas as pd\n",
    "import seaborn as sns\n",
    "import matplotlib.pyplot as plt\n",
    "import numpy as np \n",
    "import scipy.stats as stats\n",
    "import scipy.optimize\n",
    "import re\n",
    "\n",
    "%matplotlib inline"
   ]
  },
  {
   "cell_type": "code",
   "execution_count": 60,
   "metadata": {},
   "outputs": [],
   "source": [
    "blues = sns.color_palette('Blues', 9)\n",
    "reds = sns.color_palette('Reds', 9)\n",
    "greens = sns.color_palette('Greens', 9)\n",
    "oranges = sns.color_palette('Oranges', 9)\n",
    "grays = sns.color_palette('Greys', 9)\n",
    "purples = sns.color_palette('Purples', 9)\n",
    "prs = sns.color_palette('PRGn', 9)\n",
    "tanteals = sns.color_palette('BrBG', 9)\n",
    "pinkgreens = sns.color_palette('PiYG', 9)[::-1]\n",
    "\n",
    "\n",
    "bw = {'axis.labelcolor': 'white', 'xtick.color': 'white', 'ytick.color': 'white',\n",
    "     'grid.color': 'white', 'axes.edgecolor': 'white', 'axes.facecolor': 'black',\n",
    "     'text.color': 'white', 'axes.labelcolor': 'white', 'figure.facecolor' : 'black',\n",
    "     'xtick.major.size': 5.0, 'xtick.minor.size': 5.0, \n",
    "      'ytick.major.size': 5.0, 'ytick.minor.size': 5.0, 'axes.linewidth': 1.0}\n",
    "bw_tickless = {'axis.labelcolor': 'white', 'grid.color': 'white', \n",
    "               'axes.edgecolor': 'white', 'axes.facecolor': 'black', 'text.color': 'white', \n",
    "               'axes.labelcolor': 'white', 'figure.facecolor' : 'black', 'axes.linewidth': 1.0,\n",
    "              'xtick.color': 'white', 'ytick.color': 'white'}"
   ]
  },
  {
   "cell_type": "markdown",
   "metadata": {},
   "source": [
    "## Import growth rates"
   ]
  },
  {
   "cell_type": "code",
   "execution_count": 61,
   "metadata": {},
   "outputs": [],
   "source": [
    "df = pd.read_csv('raw/microcolony_growth.csv', delimiter = ',')"
   ]
  },
  {
   "cell_type": "code",
   "execution_count": 62,
   "metadata": {},
   "outputs": [
    {
     "data": {
      "text/html": [
       "<div>\n",
       "<style scoped>\n",
       "    .dataframe tbody tr th:only-of-type {\n",
       "        vertical-align: middle;\n",
       "    }\n",
       "\n",
       "    .dataframe tbody tr th {\n",
       "        vertical-align: top;\n",
       "    }\n",
       "\n",
       "    .dataframe thead th {\n",
       "        text-align: right;\n",
       "    }\n",
       "</style>\n",
       "<table border=\"1\" class=\"dataframe\">\n",
       "  <thead>\n",
       "    <tr style=\"text-align: right;\">\n",
       "      <th></th>\n",
       "      <th>Gomp_12h</th>\n",
       "      <th>N0_linear</th>\n",
       "      <th>Gomp_4h</th>\n",
       "      <th>r2_growthrate2</th>\n",
       "      <th>Gomp_8h</th>\n",
       "      <th>growthrate2</th>\n",
       "      <th>Gomp_6h</th>\n",
       "      <th>growthrate1</th>\n",
       "      <th>Gomp_10h</th>\n",
       "      <th>r2_growthrate1</th>\n",
       "      <th>t_graphical</th>\n",
       "    </tr>\n",
       "  </thead>\n",
       "  <tbody>\n",
       "    <tr>\n",
       "      <td>32</td>\n",
       "      <td>0.100953</td>\n",
       "      <td>12854.666667</td>\n",
       "      <td>0.020458</td>\n",
       "      <td>NaN</td>\n",
       "      <td>0.057806</td>\n",
       "      <td>NaN</td>\n",
       "      <td>0.037258</td>\n",
       "      <td>0.011035</td>\n",
       "      <td>0.079749</td>\n",
       "      <td>0.996721</td>\n",
       "      <td>NaN</td>\n",
       "    </tr>\n",
       "    <tr>\n",
       "      <td>86</td>\n",
       "      <td>0.972558</td>\n",
       "      <td>18455.666667</td>\n",
       "      <td>0.007893</td>\n",
       "      <td>0.993515</td>\n",
       "      <td>0.257982</td>\n",
       "      <td>0.004488</td>\n",
       "      <td>0.068204</td>\n",
       "      <td>0.011838</td>\n",
       "      <td>0.586174</td>\n",
       "      <td>0.998387</td>\n",
       "      <td>409.769238</td>\n",
       "    </tr>\n",
       "    <tr>\n",
       "      <td>74</td>\n",
       "      <td>1.712461</td>\n",
       "      <td>19455.000000</td>\n",
       "      <td>0.182892</td>\n",
       "      <td>0.999426</td>\n",
       "      <td>0.819461</td>\n",
       "      <td>0.005192</td>\n",
       "      <td>0.441673</td>\n",
       "      <td>0.010694</td>\n",
       "      <td>1.263875</td>\n",
       "      <td>0.998503</td>\n",
       "      <td>247.456032</td>\n",
       "    </tr>\n",
       "    <tr>\n",
       "      <td>18</td>\n",
       "      <td>NaN</td>\n",
       "      <td>21428.000000</td>\n",
       "      <td>NaN</td>\n",
       "      <td>NaN</td>\n",
       "      <td>NaN</td>\n",
       "      <td>NaN</td>\n",
       "      <td>NaN</td>\n",
       "      <td>0.011320</td>\n",
       "      <td>NaN</td>\n",
       "      <td>0.998419</td>\n",
       "      <td>NaN</td>\n",
       "    </tr>\n",
       "    <tr>\n",
       "      <td>75</td>\n",
       "      <td>1.248642</td>\n",
       "      <td>19311.333333</td>\n",
       "      <td>0.045097</td>\n",
       "      <td>0.997998</td>\n",
       "      <td>0.429756</td>\n",
       "      <td>0.005140</td>\n",
       "      <td>0.171484</td>\n",
       "      <td>0.011117</td>\n",
       "      <td>0.808474</td>\n",
       "      <td>0.997692</td>\n",
       "      <td>371.586026</td>\n",
       "    </tr>\n",
       "  </tbody>\n",
       "</table>\n",
       "</div>"
      ],
      "text/plain": [
       "    Gomp_12h     N0_linear   Gomp_4h  r2_growthrate2   Gomp_8h  growthrate2  \\\n",
       "32  0.100953  12854.666667  0.020458             NaN  0.057806          NaN   \n",
       "86  0.972558  18455.666667  0.007893        0.993515  0.257982     0.004488   \n",
       "74  1.712461  19455.000000  0.182892        0.999426  0.819461     0.005192   \n",
       "18       NaN  21428.000000       NaN             NaN       NaN          NaN   \n",
       "75  1.248642  19311.333333  0.045097        0.997998  0.429756     0.005140   \n",
       "\n",
       "     Gomp_6h  growthrate1  Gomp_10h  r2_growthrate1  t_graphical  \n",
       "32  0.037258     0.011035  0.079749        0.996721          NaN  \n",
       "86  0.068204     0.011838  0.586174        0.998387   409.769238  \n",
       "74  0.441673     0.010694  1.263875        0.998503   247.456032  \n",
       "18       NaN     0.011320       NaN        0.998419          NaN  \n",
       "75  0.171484     0.011117  0.808474        0.997692   371.586026  "
      ]
     },
     "execution_count": 62,
     "metadata": {},
     "output_type": "execute_result"
    }
   ],
   "source": [
    "df.head()\n",
    "df.tail()\n",
    "df.sample(n = 5)"
   ]
  },
  {
   "cell_type": "code",
   "execution_count": 63,
   "metadata": {},
   "outputs": [],
   "source": [
    "# These columns above refer to:\n",
    "# N0_linear: the 2D area of the microcolony at the time of glucose withdrawal, in px. Linear/not log.\n",
    "# growthrate1: the doubling rate/min pre-starvation as calculated by fitting an exponential curve \n",
    "# growthrate2: the doubling rate/min post-starvation as calcuated by fitting an exponential curve; NaN = no growth\n",
    "# r2_growthrate1, r2_growthrate2: the r^2 for the fits for growthrate1 and growthrate2, respectively\n",
    "# Gomp_Nh: the natural log fold change in 2D area by N hr post-starvation, i.e. ln(N(t)/N(0))\n",
    "# t_graphical: the lag time in min calculated as the intersection of the straight line at N0_linear \n",
    "#          and the log of the exponential fit used in growth rate calculations; NaN = no growth resumption"
   ]
  },
  {
   "cell_type": "code",
   "execution_count": 64,
   "metadata": {},
   "outputs": [
    {
     "name": "stderr",
     "output_type": "stream",
     "text": [
      "/Users/laurabagamery/opt/anaconda3/lib/python3.7/site-packages/pandas/core/ops/__init__.py:1115: FutureWarning: elementwise comparison failed; returning scalar instead, but in the future will perform elementwise comparison\n",
      "  result = method(y)\n"
     ]
    },
    {
     "data": {
      "image/png": "[encoded data removed]",
      "text/plain": [
       "<Figure size 432x288 with 1 Axes>"
      ]
     },
     "metadata": {},
     "output_type": "display_data"
    }
   ],
   "source": [
    "sns.set_context('paper', font_scale = 1.5)\n",
    "sns.set_style('ticks')\n",
    "\n",
    "df_reals = df[df['Gomp_12h'] != 'NaN']\n",
    "df_12h_arresters = df_reals[df_reals['Gomp_12h'] <= np.log(2)]\n",
    "#df_12h_recoverers = df_reals[df_reals['Gomp_12h'] >= np.log(2)]\n",
    "df_12h_recoverers = df_reals[df_reals['Gomp_12h'] > np.log(2) + 0.01]\n",
    "\n",
    "\n",
    "\n",
    "f, ax = plt.subplots()\n",
    "\n",
    "plt.scatter(df_12h_arresters['growthrate1']*60, np.exp(df_12h_arresters['Gomp_12h'].astype(float)),\n",
    "            color = 'black', label = 'Arresters')\n",
    "plt.scatter(df_12h_recoverers['growthrate1']*60, np.exp(df_12h_recoverers['Gomp_12h'].astype(float)),\n",
    "                                                    color = reds[5], label = 'Recoverers')\n",
    "\n",
    "\n",
    "plt.axhline(y = 2, color = 'black', linestyle = (0, (3,5)))\n",
    "\n",
    "\n",
    "\n",
    "ax.set_xlim(0, 1)\n",
    "ax.set_ylim(0, 8)\n",
    "ax.set_xlabel('Initial growth rate ($\\mathregular{hr^{-1}}$)')\n",
    "ax.set_ylabel('Fold change after 12 hr - glc')\n",
    "\n",
    "ax.legend(bbox_to_anchor = (1.05, 1), loc = 2, borderaxespad = 0, frameon = False);\n",
    "\n",
    "sns.despine()"
   ]
  },
  {
   "cell_type": "code",
   "execution_count": 65,
   "metadata": {},
   "outputs": [
    {
     "name": "stderr",
     "output_type": "stream",
     "text": [
      "/Users/laurabagamery/opt/anaconda3/lib/python3.7/site-packages/pandas/core/indexing.py:376: SettingWithCopyWarning: \n",
      "A value is trying to be set on a copy of a slice from a DataFrame.\n",
      "Try using .loc[row_indexer,col_indexer] = value instead\n",
      "\n",
      "See the caveats in the documentation: http://pandas.pydata.org/pandas-docs/stable/user_guide/indexing.html#returning-a-view-versus-a-copy\n",
      "  self.obj[key] = _infer_fill_value(value)\n",
      "/Users/laurabagamery/opt/anaconda3/lib/python3.7/site-packages/pandas/core/indexing.py:494: SettingWithCopyWarning: \n",
      "A value is trying to be set on a copy of a slice from a DataFrame.\n",
      "Try using .loc[row_indexer,col_indexer] = value instead\n",
      "\n",
      "See the caveats in the documentation: http://pandas.pydata.org/pandas-docs/stable/user_guide/indexing.html#returning-a-view-versus-a-copy\n",
      "  self.obj[item] = s\n"
     ]
    },
    {
     "data": {
      "image/png": "[encoded data removed]",
      "text/plain": [
       "<Figure size 432x288 with 1 Axes>"
      ]
     },
     "metadata": {},
     "output_type": "display_data"
    }
   ],
   "source": [
    "sns.set_context('talk')\n",
    "sns.set_style('ticks')\n",
    "\n",
    "f, ax = plt.subplots()\n",
    "\n",
    "df_12h_arresters.loc[:, 'phenotype'] = 'Arresters'\n",
    "df_12h_recoverers.loc[:, 'phenotype'] = 'Recoverers'\n",
    "df_12h_all = pd.concat([df_12h_arresters, df_12h_recoverers])\n",
    "df_12h_all['growthrate1'] = df_12h_all['growthrate1']*60\n",
    "\n",
    "sns.boxplot(x = 'phenotype', y = 'growthrate1', data = df_12h_all, color = 'white')\n",
    "sns.swarmplot(x = 'phenotype', y = 'growthrate1', data = df_12h_all, palette = ['black', reds[5]],\n",
    "             size = 6)\n",
    "\n",
    "[x1, x2] = [0, 1]\n",
    "[y, h, col] = [df_12h_all['growthrate1'].max() + 0.05, 0.05, 'black']\n",
    "plt.plot([x1, x1, x2, x2], [y, y + h, y + h, y], lw = 1.5, c = col)\n",
    "plt.text((x1 + x2)/2, y + h, 'p = 0.006', ha = 'center', va = 'bottom', color = col, fontsize = 20)\n",
    "\n",
    "\n",
    "\n",
    "ax.set_ylim(0.5, 0.9)\n",
    "ax.set_xlabel('')\n",
    "ax.set_ylabel('Initial growth rate ($\\mathregular{hr^{-1}}$)')\n",
    "\n",
    "plt.setp(ax.artists, edgecolor = 'black', facecolor='white')\n",
    "plt.setp(ax.lines, color='black')\n",
    "\n",
    "sns.despine()\n",
    "\n"
   ]
  },
  {
   "cell_type": "code",
   "execution_count": 66,
   "metadata": {},
   "outputs": [
    {
     "data": {
      "text/plain": [
       "MannwhitneyuResult(statistic=985.0, pvalue=0.0061483440004506005)"
      ]
     },
     "execution_count": 66,
     "metadata": {},
     "output_type": "execute_result"
    }
   ],
   "source": [
    "stats.mannwhitneyu(df_12h_arresters['growthrate1'], \n",
    "                   df_12h_recoverers['growthrate1'], alternative = 'two-sided')"
   ]
  },
  {
   "cell_type": "code",
   "execution_count": 67,
   "metadata": {},
   "outputs": [
    {
     "name": "stdout",
     "output_type": "stream",
     "text": [
      "82\n"
     ]
    }
   ],
   "source": [
    "print(len(df_12h_all))"
   ]
  },
  {
   "cell_type": "code",
   "execution_count": null,
   "metadata": {},
   "outputs": [],
   "source": []
  }
 ],
 "metadata": {
  "kernelspec": {
   "display_name": "Python 3",
   "language": "python",
   "name": "python3"
  },
  "language_info": {
   "codemirror_mode": {
    "name": "ipython",
    "version": 3
   },
   "file_extension": ".py",
   "mimetype": "text/x-python",
   "name": "python",
   "nbconvert_exporter": "python",
   "pygments_lexer": "ipython3",
   "version": "3.7.4"
  }
 },
 "nbformat": 4,
 "nbformat_minor": 2
}
