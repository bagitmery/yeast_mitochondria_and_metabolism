{
 "cells": [
  {
   "cell_type": "code",
   "execution_count": 1,
   "metadata": {},
   "outputs": [],
   "source": [
    "# This notebook was written for Python 2.7\n",
    "import FlowCytometryTools as fct\n",
    "import pandas as pd\n",
    "import seaborn as sns\n",
    "import matplotlib.pyplot as plt\n",
    "import numpy as np \n",
    "from operator import truediv\n",
    "import scipy.optimize\n",
    "\n",
    "%matplotlib inline"
   ]
  },
  {
   "cell_type": "code",
   "execution_count": 2,
   "metadata": {},
   "outputs": [],
   "source": [
    "blues = sns.color_palette('Blues', 9)\n",
    "reds = sns.color_palette('Reds', 9)\n",
    "greens = sns.color_palette('Greens', 9)\n",
    "oranges = sns.color_palette('Oranges', 9)\n",
    "grays = sns.color_palette('Greys', 9)\n",
    "\n",
    "\n",
    "bw = {'axis.labelcolor': 'white', 'xtick.color': 'white', 'ytick.color': 'white',\n",
    "     'grid.color': 'white', 'axes.edgecolor': 'white', 'axes.facecolor': 'black',\n",
    "     'text.color': 'white', 'axes.labelcolor': 'white', 'figure.facecolor' : 'black',\n",
    "     'xtick.major.size': 5.0, 'xtick.minor.size': 5.0, \n",
    "      'ytick.major.size': 5.0, 'ytick.minor.size': 5.0, 'axes.linewidth': 1.0}\n",
    "\n",
    "bw_tickless = {'axis.labelcolor': 'white', 'grid.color': 'white', \n",
    "               'axes.edgecolor': 'white', 'axes.facecolor': 'black', 'text.color': 'white', \n",
    "               'axes.labelcolor': 'white', 'figure.facecolor' : 'black', 'axes.linewidth': 1.0,\n",
    "              'xtick.color': 'white', 'ytick.color': 'white'}"
   ]
  },
  {
   "cell_type": "markdown",
   "metadata": {},
   "source": [
    "## Import recovery probability data"
   ]
  },
  {
   "cell_type": "code",
   "execution_count": 3,
   "metadata": {},
   "outputs": [],
   "source": [
    "df_rates = pd.DataFrame()\n",
    "\n",
    "df_sub = pd.read_csv('raw/03_14_recovery_probability.csv', usecols = [1,2])\n",
    "df_rates = pd.concat([df_rates, df_sub])\n",
    "\n",
    "df_sub = pd.read_csv('raw/03_23_recovery_probability.csv', usecols = [1,2])\n",
    "df_rates = pd.concat([df_rates, df_sub])\n",
    "\n",
    "df_sub = pd.read_csv('raw/03_24_recovery_probability.csv', usecols = [1,2])\n",
    "df_rates = pd.concat([df_rates, df_sub])\n",
    "\n",
    "df_sub = pd.read_csv('raw/08_10_recovery_probability.csv', usecols = [1,2])\n",
    "df_rates = pd.concat([df_rates, df_sub])\n",
    "\n",
    "df_sub = pd.read_csv('raw/08_16_recovery_probability.csv', usecols = [1,2])\n",
    "df_rates = pd.concat([df_rates, df_sub])\n",
    "\n",
    "df_sub = pd.read_csv('raw/09_06_recovery_probability.csv', usecols = [1,2])\n",
    "df_rates = pd.concat([df_rates, df_sub])"
   ]
  },
  {
   "cell_type": "code",
   "execution_count": 4,
   "metadata": {},
   "outputs": [
    {
     "data": {
      "text/html": [
       "<div>\n",
       "<style scoped>\n",
       "    .dataframe tbody tr th:only-of-type {\n",
       "        vertical-align: middle;\n",
       "    }\n",
       "\n",
       "    .dataframe tbody tr th {\n",
       "        vertical-align: top;\n",
       "    }\n",
       "\n",
       "    .dataframe thead th {\n",
       "        text-align: right;\n",
       "    }\n",
       "</style>\n",
       "<table border=\"1\" class=\"dataframe\">\n",
       "  <thead>\n",
       "    <tr style=\"text-align: right;\">\n",
       "      <th></th>\n",
       "      <th>r</th>\n",
       "      <th>time</th>\n",
       "    </tr>\n",
       "  </thead>\n",
       "  <tbody>\n",
       "    <tr>\n",
       "      <th>0</th>\n",
       "      <td>0.998834</td>\n",
       "      <td>0</td>\n",
       "    </tr>\n",
       "    <tr>\n",
       "      <th>0</th>\n",
       "      <td>0.999773</td>\n",
       "      <td>0</td>\n",
       "    </tr>\n",
       "    <tr>\n",
       "      <th>1</th>\n",
       "      <td>0.949569</td>\n",
       "      <td>2</td>\n",
       "    </tr>\n",
       "    <tr>\n",
       "      <th>5</th>\n",
       "      <td>0.273882</td>\n",
       "      <td>10</td>\n",
       "    </tr>\n",
       "    <tr>\n",
       "      <th>4</th>\n",
       "      <td>0.330399</td>\n",
       "      <td>8</td>\n",
       "    </tr>\n",
       "  </tbody>\n",
       "</table>\n",
       "</div>"
      ],
      "text/plain": [
       "          r  time\n",
       "0  0.998834     0\n",
       "0  0.999773     0\n",
       "1  0.949569     2\n",
       "5  0.273882    10\n",
       "4  0.330399     8"
      ]
     },
     "execution_count": 4,
     "metadata": {},
     "output_type": "execute_result"
    }
   ],
   "source": [
    "df_rates.head()\n",
    "df_rates.tail()\n",
    "df_rates.sample(n = 5)"
   ]
  },
  {
   "cell_type": "code",
   "execution_count": 5,
   "metadata": {},
   "outputs": [
    {
     "data": {
      "image/png": "[encoded data removed]",
      "text/plain": [
       "<Figure size 432x288 with 1 Axes>"
      ]
     },
     "metadata": {},
     "output_type": "display_data"
    }
   ],
   "source": [
    "sns.set_context('paper', font_scale = 1.5)\n",
    "sns.set_style('ticks')\n",
    "\n",
    "f, ax = plt.subplots()\n",
    "\n",
    "plt.scatter(df_rates['time'], df_rates['r'], color = 'black')\n",
    "\n",
    "ax.set_xlim(0, 75)\n",
    "ax.set_ylim(0, 1.1)\n",
    "\n",
    "ax.set_xlabel('Residence time in glucose (hr)')\n",
    "ax.set_ylabel('Proportion of recovered cells at 24hr')\n",
    "\n",
    "sns.despine()"
   ]
  },
  {
   "cell_type": "markdown",
   "metadata": {},
   "source": [
    "## Logistic fit"
   ]
  },
  {
   "cell_type": "code",
   "execution_count": 6,
   "metadata": {},
   "outputs": [],
   "source": [
    "def func(x, a, b, c, d):\n",
    "    return (a/(1.0 + np.exp(-c*(x - d)))) + b "
   ]
  },
  {
   "cell_type": "code",
   "execution_count": 7,
   "metadata": {},
   "outputs": [],
   "source": [
    "popt, pcov = scipy.optimize.curve_fit(func, df_rates['time'], df_rates['r'])\n",
    "a_fit = popt[0]\n",
    "b_fit = popt[1]\n",
    "c_fit = popt[2]\n",
    "d_fit = popt[3]"
   ]
  },
  {
   "cell_type": "code",
   "execution_count": 8,
   "metadata": {},
   "outputs": [
    {
     "name": "stdout",
     "output_type": "stream",
     "text": [
      "-0.8207649957078859\n",
      "1.036254418138254\n",
      "0.807853318364542\n",
      "4.52600638459031\n"
     ]
    }
   ],
   "source": [
    "print(a_fit)\n",
    "print(b_fit)\n",
    "print(c_fit)\n",
    "print(d_fit)"
   ]
  },
  {
   "cell_type": "code",
   "execution_count": 9,
   "metadata": {},
   "outputs": [
    {
     "data": {
      "image/png": "[encoded data removed]",
      "text/plain": [
       "<Figure size 432x288 with 1 Axes>"
      ]
     },
     "metadata": {},
     "output_type": "display_data"
    }
   ],
   "source": [
    "sns.set_context('paper', font_scale = 1.5)\n",
    "sns.set_style('ticks')\n",
    "\n",
    "f, ax = plt.subplots()\n",
    "\n",
    "xplot = np.linspace(0, 72, 100)\n",
    "yplot = func(xplot, a_fit, b_fit, c_fit, d_fit)\n",
    "\n",
    "plt.scatter(df_rates['time'], df_rates['r'], color = 'black')\n",
    "plt.plot(xplot, yplot, color = 'black')\n",
    "\n",
    "ax.set_xlim(0, 75)\n",
    "ax.set_ylim(0, 1.1)\n",
    "\n",
    "ax.set_xlabel('Residence time in glucose (hr)')\n",
    "ax.set_ylabel('Proportion of recovered cells at 24hr')\n",
    "\n",
    "plt.text(10, 0.8, r'$\\mathregular{p = \\frac{-0.821}{1+e^{-0.8079 \\times{(t-4.526)}}} + 1.036}$',\n",
    "        fontsize = 20)\n",
    "\n",
    "sns.despine()"
   ]
  },
  {
   "cell_type": "code",
   "execution_count": 10,
   "metadata": {},
   "outputs": [],
   "source": [
    "df_24rates = df_rates[df_rates['time'] < 25]\n",
    "df_48rates = df_rates[df_rates['time'] == 48]\n",
    "df_72rates = df_rates[df_rates['time'] == 72]"
   ]
  },
  {
   "cell_type": "code",
   "execution_count": 11,
   "metadata": {},
   "outputs": [
    {
     "data": {
      "text/plain": [
       "Text(23.325,0.5,'Proportion of recovered cells at 24hr')"
      ]
     },
     "execution_count": 11,
     "metadata": {},
     "output_type": "execute_result"
    },
    {
     "data": {
      "image/png": "[encoded data removed]",
      "text/plain": [
       "<Figure size 432x288 with 3 Axes>"
      ]
     },
     "metadata": {},
     "output_type": "display_data"
    }
   ],
   "source": [
    "sns.set_context('paper', font_scale = 1.5)\n",
    "sns.set_style('ticks')\n",
    "\n",
    "f, (ax1, ax2, ax3) = plt.subplots(1, 3, sharey = False, \n",
    "                                  gridspec_kw = {'width_ratios': [4, 1, 1]})\n",
    "plt.tight_layout()\n",
    "\n",
    "xplot = np.linspace(0, 73, 100)\n",
    "yplot = func(xplot, a_fit, b_fit, c_fit, d_fit)\n",
    "\n",
    "ax1.scatter(df_rates['time'], df_rates['r'], color = 'black')\n",
    "ax1.plot(xplot, yplot, color = 'black');\n",
    "\n",
    "ax2.scatter(df_rates['time'], df_rates['r'], color = 'black')\n",
    "ax2.plot(xplot, yplot, color = 'black');\n",
    "\n",
    "ax3.scatter(df_rates['time'], df_rates['r'], color = 'black')\n",
    "ax3.plot(xplot, yplot, color = 'black');\n",
    "\n",
    "\n",
    "#plt.text(10, 0.8, r'$\\mathregular{p_{recovered} = \\frac{-0.821}{1+e^{-0.8079 \\times{(t-4.526)}}} + 1.036}$',\n",
    "#        fontsize = 20)\n",
    "\n",
    "ax1.set_xlim(0, 26)\n",
    "ax2.set_xlim(47, 49)\n",
    "ax3.set_xlim(71, 73)\n",
    "\n",
    "ax1.set_ylim(0, 1.1)\n",
    "ax2.set_ylim(0, 1.1)\n",
    "ax3.set_ylim(0, 1.1)\n",
    "\n",
    "sns.despine()\n",
    "ax2.spines['left'].set_visible(False)\n",
    "ax3.spines['left'].set_visible(False)\n",
    "ax2.set_yticks([])\n",
    "ax3.set_yticks([])\n",
    "ax2.set_xticklabels(['', '48', ''])\n",
    "ax3.set_xticklabels(['', '72', ''])\n",
    "\n",
    "\n",
    "f.subplots_adjust(wspace = 0.1)\n",
    "\n",
    "ax1.set_xlabel('Residence time in glucose (hr)')\n",
    "ax1.set_ylabel('Proportion of recovered cells at 24hr')\n",
    "\n"
   ]
  },
  {
   "cell_type": "code",
   "execution_count": 12,
   "metadata": {},
   "outputs": [],
   "source": [
    "residuals = df_rates['r'] - func(df_rates['time'], a_fit, b_fit, c_fit, d_fit)\n",
    "ss_res = np.sum(residuals **2)\n",
    "ss_tot = np.sum((df_rates['r'] - np.mean(df_rates['r']))**2)\n",
    "rsquared = 1 - (ss_res / ss_tot)"
   ]
  },
  {
   "cell_type": "code",
   "execution_count": 13,
   "metadata": {},
   "outputs": [
    {
     "data": {
      "text/plain": [
       "0.9537610139102691"
      ]
     },
     "execution_count": 13,
     "metadata": {},
     "output_type": "execute_result"
    }
   ],
   "source": [
    "rsquared"
   ]
  },
  {
   "cell_type": "markdown",
   "metadata": {},
   "source": [
    "### What does this tell us about rate-switching?\n",
    "### One, the steady state reflects the steady-state proportion of recoverers:"
   ]
  },
  {
   "cell_type": "code",
   "execution_count": 14,
   "metadata": {},
   "outputs": [
    {
     "data": {
      "text/plain": [
       "0.21548942243036817"
      ]
     },
     "execution_count": 14,
     "metadata": {},
     "output_type": "execute_result"
    }
   ],
   "source": [
    "asymptote = a_fit + b_fit\n",
    "asymptote"
   ]
  },
  {
   "cell_type": "markdown",
   "metadata": {},
   "source": [
    "### While the slope at the half-max/sigmoid midpoint is the conversion from recoverers to arresters:"
   ]
  },
  {
   "cell_type": "code",
   "execution_count": 15,
   "metadata": {},
   "outputs": [],
   "source": [
    "# The slope at the half-max is the derivative at this point (d_fit)\n",
    "# The derivative is f(x)(1-f(x))\n",
    "slope = func(d_fit, a_fit, b_fit, c_fit, d_fit)*(1-func(d_fit, a_fit, b_fit, c_fit, d_fit))"
   ]
  },
  {
   "cell_type": "markdown",
   "metadata": {},
   "source": [
    "### The conversion from arresters to recoverers can be calculated from the above, since the ratio of the two rates must equal the steady state ratio between the two cell types:"
   ]
  },
  {
   "cell_type": "code",
   "execution_count": 16,
   "metadata": {},
   "outputs": [
    {
     "name": "stdout",
     "output_type": "stream",
     "text": [
      "Steady state recoverers: 0.21548942243036817\n",
      "Steady state arrester/recoverer ratio: 3.6405990081630732\n",
      "Sigmoid's midpoint: 4.52600638459031 hr\n",
      "Derivative at midpoint (recoverer>arrester rate): 0.23415625968394005 hr-1\n",
      "Arrester>recoverer rate: 0.0643180584181084 hr-1\n"
     ]
    }
   ],
   "source": [
    "print('Steady state recoverers: ' + str(asymptote))\n",
    "print('Steady state arrester/recoverer ratio: ' + str((1-asymptote) / asymptote))\n",
    "print('Sigmoid\\'s midpoint: ' + str(d_fit) + ' hr')\n",
    "print('Derivative at midpoint (recoverer>arrester rate): ' + str(slope) + ' hr-1')\n",
    "print('Arrester>recoverer rate: ' + str(slope/((1-asymptote) / asymptote)) + ' hr-1')"
   ]
  },
  {
   "cell_type": "code",
   "execution_count": null,
   "metadata": {},
   "outputs": [],
   "source": []
  }
 ],
 "metadata": {
  "kernelspec": {
   "display_name": "Python 2.7",
   "language": "python",
   "name": "py27"
  },
  "language_info": {
   "codemirror_mode": {
    "name": "ipython",
    "version": 2
   },
   "file_extension": ".py",
   "mimetype": "text/x-python",
   "name": "python",
   "nbconvert_exporter": "python",
   "pygments_lexer": "ipython2",
   "version": "2.7.17"
  }
 },
 "nbformat": 4,
 "nbformat_minor": 2
}
